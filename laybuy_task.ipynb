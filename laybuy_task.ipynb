{
 "cells": [
  {
   "cell_type": "markdown",
   "metadata": {},
   "source": [
    "![title](laybuy.png)"
   ]
  },
  {
   "cell_type": "markdown",
   "metadata": {},
   "source": [
    "## Premier League 2019/20 Analysis"
   ]
  },
  {
   "cell_type": "markdown",
   "metadata": {},
   "source": [
    "#### Import Libraries"
   ]
  },
  {
   "cell_type": "code",
   "execution_count": 1,
   "metadata": {},
   "outputs": [
    {
     "name": "stderr",
     "output_type": "stream",
     "text": [
      "C:\\Users\\kaart\\Anaconda3\\lib\\site-packages\\statsmodels\\tools\\_testing.py:19: FutureWarning:\n",
      "\n",
      "pandas.util.testing is deprecated. Use the functions in the public API at pandas.testing instead.\n",
      "\n"
     ]
    },
    {
     "data": {
      "application/javascript": [
       "\n",
       "            setTimeout(function() {\n",
       "                var nbb_cell_id = 1;\n",
       "                var nbb_unformatted_code = \"%load_ext nb_black\\n\\nimport pandas as pd\\nimport numpy as np\\nimport matplotlib.pyplot as plt\\nimport plotly.express as px\\nimport plotly.graph_objects as go\\nfrom plotly.offline import iplot\\nfrom plotly.subplots import make_subplots\\nimport seaborn as sns\\nimport warnings\\nwarnings.filterwarnings('ignore')\\nimport plotly.figure_factory as ff\";\n",
       "                var nbb_formatted_code = \"%load_ext nb_black\\n\\nimport pandas as pd\\nimport numpy as np\\nimport matplotlib.pyplot as plt\\nimport plotly.express as px\\nimport plotly.graph_objects as go\\nfrom plotly.offline import iplot\\nfrom plotly.subplots import make_subplots\\nimport seaborn as sns\\nimport warnings\\n\\nwarnings.filterwarnings(\\\"ignore\\\")\\nimport plotly.figure_factory as ff\";\n",
       "                var nbb_cells = Jupyter.notebook.get_cells();\n",
       "                for (var i = 0; i < nbb_cells.length; ++i) {\n",
       "                    if (nbb_cells[i].input_prompt_number == nbb_cell_id) {\n",
       "                        if (nbb_cells[i].get_text() == nbb_unformatted_code) {\n",
       "                             nbb_cells[i].set_text(nbb_formatted_code);\n",
       "                        }\n",
       "                        break;\n",
       "                    }\n",
       "                }\n",
       "            }, 500);\n",
       "            "
      ],
      "text/plain": [
       "<IPython.core.display.Javascript object>"
      ]
     },
     "metadata": {},
     "output_type": "display_data"
    }
   ],
   "source": [
    "%load_ext nb_black\n",
    "\n",
    "import warnings\n",
    "warnings.filterwarnings('ignore')\n",
    "\n",
    "import pandas as pd\n",
    "import numpy as np\n",
    "import matplotlib.pyplot as plt\n",
    "import plotly.express as px\n",
    "import plotly.graph_objects as go\n",
    "from plotly.offline import iplot\n",
    "from plotly.subplots import make_subplots\n",
    "import seaborn as sns\n",
    "\n",
    "import plotly.figure_factory as ff"
   ]
  },
  {
   "cell_type": "code",
   "execution_count": 2,
   "metadata": {},
   "outputs": [
    {
     "data": {
      "text/html": [
       "        <script type=\"text/javascript\">\n",
       "        window.PlotlyConfig = {MathJaxConfig: 'local'};\n",
       "        if (window.MathJax) {MathJax.Hub.Config({SVG: {font: \"STIX-Web\"}});}\n",
       "        if (typeof require !== 'undefined') {\n",
       "        require.undef(\"plotly\");\n",
       "        requirejs.config({\n",
       "            paths: {\n",
       "                'plotly': ['https://cdn.plot.ly/plotly-latest.min']\n",
       "            }\n",
       "        });\n",
       "        require(['plotly'], function(Plotly) {\n",
       "            window._Plotly = Plotly;\n",
       "        });\n",
       "        }\n",
       "        </script>\n",
       "        "
      ]
     },
     "metadata": {},
     "output_type": "display_data"
    },
    {
     "data": {
      "application/javascript": [
       "\n",
       "            setTimeout(function() {\n",
       "                var nbb_cell_id = 2;\n",
       "                var nbb_unformatted_code = \"import cufflinks as cf\\n\\ncf.go_offline()\\ncf.set_config_file(offline=False, world_readable=True)\";\n",
       "                var nbb_formatted_code = \"import cufflinks as cf\\n\\ncf.go_offline()\\ncf.set_config_file(offline=False, world_readable=True)\";\n",
       "                var nbb_cells = Jupyter.notebook.get_cells();\n",
       "                for (var i = 0; i < nbb_cells.length; ++i) {\n",
       "                    if (nbb_cells[i].input_prompt_number == nbb_cell_id) {\n",
       "                        if (nbb_cells[i].get_text() == nbb_unformatted_code) {\n",
       "                             nbb_cells[i].set_text(nbb_formatted_code);\n",
       "                        }\n",
       "                        break;\n",
       "                    }\n",
       "                }\n",
       "            }, 500);\n",
       "            "
      ],
      "text/plain": [
       "<IPython.core.display.Javascript object>"
      ]
     },
     "metadata": {},
     "output_type": "display_data"
    }
   ],
   "source": [
    "import cufflinks as cf\n",
    "\n",
    "cf.go_offline()\n",
    "cf.set_config_file(offline=False, world_readable=True)"
   ]
  },
  {
   "cell_type": "code",
   "execution_count": 3,
   "metadata": {},
   "outputs": [
    {
     "data": {
      "application/javascript": [
       "\n",
       "            setTimeout(function() {\n",
       "                var nbb_cell_id = 3;\n",
       "                var nbb_unformatted_code = \"l = ['Position', 'Team_Name', 'W', 'D', 'L', 'F', 'A', 'GD','Pts']\\ndf = pd.read_csv(\\\"football_stats.csv\\\", sep= \\\"|\\\", header=None)\\ndf.columns = l\";\n",
       "                var nbb_formatted_code = \"l = [\\\"Position\\\", \\\"Team_Name\\\", \\\"W\\\", \\\"D\\\", \\\"L\\\", \\\"F\\\", \\\"A\\\", \\\"GD\\\", \\\"Pts\\\"]\\ndf = pd.read_csv(\\\"football_stats.csv\\\", sep=\\\"|\\\", header=None)\\ndf.columns = l\";\n",
       "                var nbb_cells = Jupyter.notebook.get_cells();\n",
       "                for (var i = 0; i < nbb_cells.length; ++i) {\n",
       "                    if (nbb_cells[i].input_prompt_number == nbb_cell_id) {\n",
       "                        if (nbb_cells[i].get_text() == nbb_unformatted_code) {\n",
       "                             nbb_cells[i].set_text(nbb_formatted_code);\n",
       "                        }\n",
       "                        break;\n",
       "                    }\n",
       "                }\n",
       "            }, 500);\n",
       "            "
      ],
      "text/plain": [
       "<IPython.core.display.Javascript object>"
      ]
     },
     "metadata": {},
     "output_type": "display_data"
    }
   ],
   "source": [
    "l = ['Position', 'Team_Name', 'W', 'D', 'L', 'F', 'A', 'GD','Pts']\n",
    "df = pd.read_csv(\"football_stats.csv\", sep= \"|\", header=None)\n",
    "df.columns = l"
   ]
  },
  {
   "cell_type": "code",
   "execution_count": 4,
   "metadata": {},
   "outputs": [
    {
     "data": {
      "application/vnd.plotly.v1+json": {
       "config": {
        "plotlyServerURL": "https://plot.ly"
       },
       "data": [
        {
         "alignmentgroup": "True",
         "bingroup": "x",
         "hovertemplate": "Goals-Scored=%{x}<br>count=%{y}<extra></extra>",
         "legendgroup": "",
         "marker": {
          "color": "#636efa"
         },
         "name": "",
         "nbinsx": 5,
         "offsetgroup": "",
         "orientation": "v",
         "showlegend": false,
         "type": "histogram",
         "x": [
          85,
          102,
          66,
          69,
          67,
          61,
          51,
          56,
          39,
          43,
          51,
          44,
          38,
          31,
          39,
          49,
          41,
          40,
          36,
          26
         ],
         "xaxis": "x",
         "yaxis": "y"
        }
       ],
       "layout": {
        "autosize": true,
        "barmode": "relative",
        "legend": {
         "tracegroupgap": 0
        },
        "template": {
         "data": {
          "bar": [
           {
            "error_x": {
             "color": "#2a3f5f"
            },
            "error_y": {
             "color": "#2a3f5f"
            },
            "marker": {
             "line": {
              "color": "#E5ECF6",
              "width": 0.5
             }
            },
            "type": "bar"
           }
          ],
          "barpolar": [
           {
            "marker": {
             "line": {
              "color": "#E5ECF6",
              "width": 0.5
             }
            },
            "type": "barpolar"
           }
          ],
          "carpet": [
           {
            "aaxis": {
             "endlinecolor": "#2a3f5f",
             "gridcolor": "white",
             "linecolor": "white",
             "minorgridcolor": "white",
             "startlinecolor": "#2a3f5f"
            },
            "baxis": {
             "endlinecolor": "#2a3f5f",
             "gridcolor": "white",
             "linecolor": "white",
             "minorgridcolor": "white",
             "startlinecolor": "#2a3f5f"
            },
            "type": "carpet"
           }
          ],
          "choropleth": [
           {
            "colorbar": {
             "outlinewidth": 0,
             "ticks": ""
            },
            "type": "choropleth"
           }
          ],
          "contour": [
           {
            "colorbar": {
             "outlinewidth": 0,
             "ticks": ""
            },
            "colorscale": [
             [
              0,
              "#0d0887"
             ],
             [
              0.1111111111111111,
              "#46039f"
             ],
             [
              0.2222222222222222,
              "#7201a8"
             ],
             [
              0.3333333333333333,
              "#9c179e"
             ],
             [
              0.4444444444444444,
              "#bd3786"
             ],
             [
              0.5555555555555556,
              "#d8576b"
             ],
             [
              0.6666666666666666,
              "#ed7953"
             ],
             [
              0.7777777777777778,
              "#fb9f3a"
             ],
             [
              0.8888888888888888,
              "#fdca26"
             ],
             [
              1,
              "#f0f921"
             ]
            ],
            "type": "contour"
           }
          ],
          "contourcarpet": [
           {
            "colorbar": {
             "outlinewidth": 0,
             "ticks": ""
            },
            "type": "contourcarpet"
           }
          ],
          "heatmap": [
           {
            "colorbar": {
             "outlinewidth": 0,
             "ticks": ""
            },
            "colorscale": [
             [
              0,
              "#0d0887"
             ],
             [
              0.1111111111111111,
              "#46039f"
             ],
             [
              0.2222222222222222,
              "#7201a8"
             ],
             [
              0.3333333333333333,
              "#9c179e"
             ],
             [
              0.4444444444444444,
              "#bd3786"
             ],
             [
              0.5555555555555556,
              "#d8576b"
             ],
             [
              0.6666666666666666,
              "#ed7953"
             ],
             [
              0.7777777777777778,
              "#fb9f3a"
             ],
             [
              0.8888888888888888,
              "#fdca26"
             ],
             [
              1,
              "#f0f921"
             ]
            ],
            "type": "heatmap"
           }
          ],
          "heatmapgl": [
           {
            "colorbar": {
             "outlinewidth": 0,
             "ticks": ""
            },
            "colorscale": [
             [
              0,
              "#0d0887"
             ],
             [
              0.1111111111111111,
              "#46039f"
             ],
             [
              0.2222222222222222,
              "#7201a8"
             ],
             [
              0.3333333333333333,
              "#9c179e"
             ],
             [
              0.4444444444444444,
              "#bd3786"
             ],
             [
              0.5555555555555556,
              "#d8576b"
             ],
             [
              0.6666666666666666,
              "#ed7953"
             ],
             [
              0.7777777777777778,
              "#fb9f3a"
             ],
             [
              0.8888888888888888,
              "#fdca26"
             ],
             [
              1,
              "#f0f921"
             ]
            ],
            "type": "heatmapgl"
           }
          ],
          "histogram": [
           {
            "marker": {
             "colorbar": {
              "outlinewidth": 0,
              "ticks": ""
             }
            },
            "type": "histogram"
           }
          ],
          "histogram2d": [
           {
            "colorbar": {
             "outlinewidth": 0,
             "ticks": ""
            },
            "colorscale": [
             [
              0,
              "#0d0887"
             ],
             [
              0.1111111111111111,
              "#46039f"
             ],
             [
              0.2222222222222222,
              "#7201a8"
             ],
             [
              0.3333333333333333,
              "#9c179e"
             ],
             [
              0.4444444444444444,
              "#bd3786"
             ],
             [
              0.5555555555555556,
              "#d8576b"
             ],
             [
              0.6666666666666666,
              "#ed7953"
             ],
             [
              0.7777777777777778,
              "#fb9f3a"
             ],
             [
              0.8888888888888888,
              "#fdca26"
             ],
             [
              1,
              "#f0f921"
             ]
            ],
            "type": "histogram2d"
           }
          ],
          "histogram2dcontour": [
           {
            "colorbar": {
             "outlinewidth": 0,
             "ticks": ""
            },
            "colorscale": [
             [
              0,
              "#0d0887"
             ],
             [
              0.1111111111111111,
              "#46039f"
             ],
             [
              0.2222222222222222,
              "#7201a8"
             ],
             [
              0.3333333333333333,
              "#9c179e"
             ],
             [
              0.4444444444444444,
              "#bd3786"
             ],
             [
              0.5555555555555556,
              "#d8576b"
             ],
             [
              0.6666666666666666,
              "#ed7953"
             ],
             [
              0.7777777777777778,
              "#fb9f3a"
             ],
             [
              0.8888888888888888,
              "#fdca26"
             ],
             [
              1,
              "#f0f921"
             ]
            ],
            "type": "histogram2dcontour"
           }
          ],
          "mesh3d": [
           {
            "colorbar": {
             "outlinewidth": 0,
             "ticks": ""
            },
            "type": "mesh3d"
           }
          ],
          "parcoords": [
           {
            "line": {
             "colorbar": {
              "outlinewidth": 0,
              "ticks": ""
             }
            },
            "type": "parcoords"
           }
          ],
          "pie": [
           {
            "automargin": true,
            "type": "pie"
           }
          ],
          "scatter": [
           {
            "marker": {
             "colorbar": {
              "outlinewidth": 0,
              "ticks": ""
             }
            },
            "type": "scatter"
           }
          ],
          "scatter3d": [
           {
            "line": {
             "colorbar": {
              "outlinewidth": 0,
              "ticks": ""
             }
            },
            "marker": {
             "colorbar": {
              "outlinewidth": 0,
              "ticks": ""
             }
            },
            "type": "scatter3d"
           }
          ],
          "scattercarpet": [
           {
            "marker": {
             "colorbar": {
              "outlinewidth": 0,
              "ticks": ""
             }
            },
            "type": "scattercarpet"
           }
          ],
          "scattergeo": [
           {
            "marker": {
             "colorbar": {
              "outlinewidth": 0,
              "ticks": ""
             }
            },
            "type": "scattergeo"
           }
          ],
          "scattergl": [
           {
            "marker": {
             "colorbar": {
              "outlinewidth": 0,
              "ticks": ""
             }
            },
            "type": "scattergl"
           }
          ],
          "scattermapbox": [
           {
            "marker": {
             "colorbar": {
              "outlinewidth": 0,
              "ticks": ""
             }
            },
            "type": "scattermapbox"
           }
          ],
          "scatterpolar": [
           {
            "marker": {
             "colorbar": {
              "outlinewidth": 0,
              "ticks": ""
             }
            },
            "type": "scatterpolar"
           }
          ],
          "scatterpolargl": [
           {
            "marker": {
             "colorbar": {
              "outlinewidth": 0,
              "ticks": ""
             }
            },
            "type": "scatterpolargl"
           }
          ],
          "scatterternary": [
           {
            "marker": {
             "colorbar": {
              "outlinewidth": 0,
              "ticks": ""
             }
            },
            "type": "scatterternary"
           }
          ],
          "surface": [
           {
            "colorbar": {
             "outlinewidth": 0,
             "ticks": ""
            },
            "colorscale": [
             [
              0,
              "#0d0887"
             ],
             [
              0.1111111111111111,
              "#46039f"
             ],
             [
              0.2222222222222222,
              "#7201a8"
             ],
             [
              0.3333333333333333,
              "#9c179e"
             ],
             [
              0.4444444444444444,
              "#bd3786"
             ],
             [
              0.5555555555555556,
              "#d8576b"
             ],
             [
              0.6666666666666666,
              "#ed7953"
             ],
             [
              0.7777777777777778,
              "#fb9f3a"
             ],
             [
              0.8888888888888888,
              "#fdca26"
             ],
             [
              1,
              "#f0f921"
             ]
            ],
            "type": "surface"
           }
          ],
          "table": [
           {
            "cells": {
             "fill": {
              "color": "#EBF0F8"
             },
             "line": {
              "color": "white"
             }
            },
            "header": {
             "fill": {
              "color": "#C8D4E3"
             },
             "line": {
              "color": "white"
             }
            },
            "type": "table"
           }
          ]
         },
         "layout": {
          "annotationdefaults": {
           "arrowcolor": "#2a3f5f",
           "arrowhead": 0,
           "arrowwidth": 1
          },
          "autotypenumbers": "strict",
          "coloraxis": {
           "colorbar": {
            "outlinewidth": 0,
            "ticks": ""
           }
          },
          "colorscale": {
           "diverging": [
            [
             0,
             "#8e0152"
            ],
            [
             0.1,
             "#c51b7d"
            ],
            [
             0.2,
             "#de77ae"
            ],
            [
             0.3,
             "#f1b6da"
            ],
            [
             0.4,
             "#fde0ef"
            ],
            [
             0.5,
             "#f7f7f7"
            ],
            [
             0.6,
             "#e6f5d0"
            ],
            [
             0.7,
             "#b8e186"
            ],
            [
             0.8,
             "#7fbc41"
            ],
            [
             0.9,
             "#4d9221"
            ],
            [
             1,
             "#276419"
            ]
           ],
           "sequential": [
            [
             0,
             "#0d0887"
            ],
            [
             0.1111111111111111,
             "#46039f"
            ],
            [
             0.2222222222222222,
             "#7201a8"
            ],
            [
             0.3333333333333333,
             "#9c179e"
            ],
            [
             0.4444444444444444,
             "#bd3786"
            ],
            [
             0.5555555555555556,
             "#d8576b"
            ],
            [
             0.6666666666666666,
             "#ed7953"
            ],
            [
             0.7777777777777778,
             "#fb9f3a"
            ],
            [
             0.8888888888888888,
             "#fdca26"
            ],
            [
             1,
             "#f0f921"
            ]
           ],
           "sequentialminus": [
            [
             0,
             "#0d0887"
            ],
            [
             0.1111111111111111,
             "#46039f"
            ],
            [
             0.2222222222222222,
             "#7201a8"
            ],
            [
             0.3333333333333333,
             "#9c179e"
            ],
            [
             0.4444444444444444,
             "#bd3786"
            ],
            [
             0.5555555555555556,
             "#d8576b"
            ],
            [
             0.6666666666666666,
             "#ed7953"
            ],
            [
             0.7777777777777778,
             "#fb9f3a"
            ],
            [
             0.8888888888888888,
             "#fdca26"
            ],
            [
             1,
             "#f0f921"
            ]
           ]
          },
          "colorway": [
           "#636efa",
           "#EF553B",
           "#00cc96",
           "#ab63fa",
           "#FFA15A",
           "#19d3f3",
           "#FF6692",
           "#B6E880",
           "#FF97FF",
           "#FECB52"
          ],
          "font": {
           "color": "#2a3f5f"
          },
          "geo": {
           "bgcolor": "white",
           "lakecolor": "white",
           "landcolor": "#E5ECF6",
           "showlakes": true,
           "showland": true,
           "subunitcolor": "white"
          },
          "hoverlabel": {
           "align": "left"
          },
          "hovermode": "closest",
          "mapbox": {
           "style": "light"
          },
          "paper_bgcolor": "white",
          "plot_bgcolor": "#E5ECF6",
          "polar": {
           "angularaxis": {
            "gridcolor": "white",
            "linecolor": "white",
            "ticks": ""
           },
           "bgcolor": "#E5ECF6",
           "radialaxis": {
            "gridcolor": "white",
            "linecolor": "white",
            "ticks": ""
           }
          },
          "scene": {
           "xaxis": {
            "backgroundcolor": "#E5ECF6",
            "gridcolor": "white",
            "gridwidth": 2,
            "linecolor": "white",
            "showbackground": true,
            "ticks": "",
            "zerolinecolor": "white"
           },
           "yaxis": {
            "backgroundcolor": "#E5ECF6",
            "gridcolor": "white",
            "gridwidth": 2,
            "linecolor": "white",
            "showbackground": true,
            "ticks": "",
            "zerolinecolor": "white"
           },
           "zaxis": {
            "backgroundcolor": "#E5ECF6",
            "gridcolor": "white",
            "gridwidth": 2,
            "linecolor": "white",
            "showbackground": true,
            "ticks": "",
            "zerolinecolor": "white"
           }
          },
          "shapedefaults": {
           "line": {
            "color": "#2a3f5f"
           }
          },
          "ternary": {
           "aaxis": {
            "gridcolor": "white",
            "linecolor": "white",
            "ticks": ""
           },
           "baxis": {
            "gridcolor": "white",
            "linecolor": "white",
            "ticks": ""
           },
           "bgcolor": "#E5ECF6",
           "caxis": {
            "gridcolor": "white",
            "linecolor": "white",
            "ticks": ""
           }
          },
          "title": {
           "x": 0.05
          },
          "xaxis": {
           "automargin": true,
           "gridcolor": "white",
           "linecolor": "white",
           "ticks": "",
           "title": {
            "standoff": 15
           },
           "zerolinecolor": "white",
           "zerolinewidth": 2
          },
          "yaxis": {
           "automargin": true,
           "gridcolor": "white",
           "linecolor": "white",
           "ticks": "",
           "title": {
            "standoff": 15
           },
           "zerolinecolor": "white",
           "zerolinewidth": 2
          }
         }
        },
        "title": {
         "text": "Histogram of Goals Scored"
        },
        "xaxis": {
         "anchor": "y",
         "autorange": true,
         "domain": [
          0,
          1
         ],
         "range": [
          19.5,
          119.5
         ],
         "title": {
          "text": "Goals-Scored"
         },
         "type": "linear"
        },
        "yaxis": {
         "anchor": "x",
         "autorange": true,
         "domain": [
          0,
          1
         ],
         "range": [
          0,
          8.421052631578947
         ],
         "title": {
          "text": "count"
         }
        }
       }
      },
      "image/png": "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",
      "text/html": [
       "<div>                            <div id=\"5b69fea9-a4fe-49bb-ab9d-af27653f357c\" class=\"plotly-graph-div\" style=\"height:525px; width:100%;\"></div>            <script type=\"text/javascript\">                require([\"plotly\"], function(Plotly) {                    window.PLOTLYENV=window.PLOTLYENV || {};                                    if (document.getElementById(\"5b69fea9-a4fe-49bb-ab9d-af27653f357c\")) {                    Plotly.newPlot(                        \"5b69fea9-a4fe-49bb-ab9d-af27653f357c\",                        [{\"alignmentgroup\": \"True\", \"bingroup\": \"x\", \"hovertemplate\": \"Goals-Scored=%{x}<br>count=%{y}<extra></extra>\", \"legendgroup\": \"\", \"marker\": {\"color\": \"#636efa\"}, \"name\": \"\", \"nbinsx\": 5, \"offsetgroup\": \"\", \"orientation\": \"v\", \"showlegend\": false, \"type\": \"histogram\", \"x\": [85, 102, 66, 69, 67, 61, 51, 56, 39, 43, 51, 44, 38, 31, 39, 49, 41, 40, 36, 26], \"xaxis\": \"x\", \"yaxis\": \"y\"}],                        {\"barmode\": \"relative\", \"legend\": {\"tracegroupgap\": 0}, \"template\": {\"data\": {\"bar\": [{\"error_x\": {\"color\": \"#2a3f5f\"}, \"error_y\": {\"color\": \"#2a3f5f\"}, \"marker\": {\"line\": {\"color\": \"#E5ECF6\", \"width\": 0.5}}, \"type\": \"bar\"}], \"barpolar\": [{\"marker\": {\"line\": {\"color\": \"#E5ECF6\", \"width\": 0.5}}, \"type\": \"barpolar\"}], \"carpet\": [{\"aaxis\": {\"endlinecolor\": \"#2a3f5f\", \"gridcolor\": \"white\", \"linecolor\": \"white\", \"minorgridcolor\": \"white\", \"startlinecolor\": \"#2a3f5f\"}, \"baxis\": {\"endlinecolor\": \"#2a3f5f\", \"gridcolor\": \"white\", \"linecolor\": \"white\", \"minorgridcolor\": \"white\", \"startlinecolor\": \"#2a3f5f\"}, \"type\": \"carpet\"}], \"choropleth\": [{\"colorbar\": {\"outlinewidth\": 0, \"ticks\": \"\"}, \"type\": \"choropleth\"}], \"contour\": [{\"colorbar\": {\"outlinewidth\": 0, \"ticks\": \"\"}, \"colorscale\": [[0.0, \"#0d0887\"], [0.1111111111111111, \"#46039f\"], [0.2222222222222222, \"#7201a8\"], [0.3333333333333333, \"#9c179e\"], [0.4444444444444444, \"#bd3786\"], [0.5555555555555556, \"#d8576b\"], [0.6666666666666666, \"#ed7953\"], [0.7777777777777778, \"#fb9f3a\"], [0.8888888888888888, \"#fdca26\"], [1.0, \"#f0f921\"]], \"type\": \"contour\"}], \"contourcarpet\": [{\"colorbar\": {\"outlinewidth\": 0, \"ticks\": \"\"}, \"type\": \"contourcarpet\"}], \"heatmap\": [{\"colorbar\": {\"outlinewidth\": 0, \"ticks\": \"\"}, \"colorscale\": [[0.0, \"#0d0887\"], [0.1111111111111111, \"#46039f\"], [0.2222222222222222, \"#7201a8\"], [0.3333333333333333, \"#9c179e\"], [0.4444444444444444, \"#bd3786\"], [0.5555555555555556, \"#d8576b\"], [0.6666666666666666, \"#ed7953\"], [0.7777777777777778, \"#fb9f3a\"], [0.8888888888888888, \"#fdca26\"], [1.0, \"#f0f921\"]], \"type\": \"heatmap\"}], \"heatmapgl\": [{\"colorbar\": {\"outlinewidth\": 0, \"ticks\": \"\"}, \"colorscale\": [[0.0, \"#0d0887\"], [0.1111111111111111, \"#46039f\"], [0.2222222222222222, \"#7201a8\"], [0.3333333333333333, \"#9c179e\"], [0.4444444444444444, \"#bd3786\"], [0.5555555555555556, \"#d8576b\"], [0.6666666666666666, \"#ed7953\"], [0.7777777777777778, \"#fb9f3a\"], [0.8888888888888888, \"#fdca26\"], [1.0, \"#f0f921\"]], \"type\": \"heatmapgl\"}], \"histogram\": [{\"marker\": {\"colorbar\": {\"outlinewidth\": 0, \"ticks\": \"\"}}, \"type\": \"histogram\"}], \"histogram2d\": [{\"colorbar\": {\"outlinewidth\": 0, \"ticks\": \"\"}, \"colorscale\": [[0.0, \"#0d0887\"], [0.1111111111111111, \"#46039f\"], [0.2222222222222222, \"#7201a8\"], [0.3333333333333333, \"#9c179e\"], [0.4444444444444444, \"#bd3786\"], [0.5555555555555556, \"#d8576b\"], [0.6666666666666666, \"#ed7953\"], [0.7777777777777778, \"#fb9f3a\"], [0.8888888888888888, \"#fdca26\"], [1.0, \"#f0f921\"]], \"type\": \"histogram2d\"}], \"histogram2dcontour\": [{\"colorbar\": {\"outlinewidth\": 0, \"ticks\": \"\"}, \"colorscale\": [[0.0, \"#0d0887\"], [0.1111111111111111, \"#46039f\"], [0.2222222222222222, \"#7201a8\"], [0.3333333333333333, \"#9c179e\"], [0.4444444444444444, \"#bd3786\"], [0.5555555555555556, \"#d8576b\"], [0.6666666666666666, \"#ed7953\"], [0.7777777777777778, \"#fb9f3a\"], [0.8888888888888888, \"#fdca26\"], [1.0, \"#f0f921\"]], \"type\": \"histogram2dcontour\"}], \"mesh3d\": [{\"colorbar\": {\"outlinewidth\": 0, \"ticks\": \"\"}, \"type\": \"mesh3d\"}], \"parcoords\": [{\"line\": {\"colorbar\": {\"outlinewidth\": 0, \"ticks\": \"\"}}, \"type\": \"parcoords\"}], \"pie\": [{\"automargin\": true, \"type\": \"pie\"}], \"scatter\": [{\"marker\": {\"colorbar\": {\"outlinewidth\": 0, \"ticks\": \"\"}}, \"type\": \"scatter\"}], \"scatter3d\": [{\"line\": {\"colorbar\": {\"outlinewidth\": 0, \"ticks\": \"\"}}, \"marker\": {\"colorbar\": {\"outlinewidth\": 0, \"ticks\": \"\"}}, \"type\": \"scatter3d\"}], \"scattercarpet\": [{\"marker\": {\"colorbar\": {\"outlinewidth\": 0, \"ticks\": \"\"}}, \"type\": \"scattercarpet\"}], \"scattergeo\": [{\"marker\": {\"colorbar\": {\"outlinewidth\": 0, \"ticks\": \"\"}}, \"type\": \"scattergeo\"}], \"scattergl\": [{\"marker\": {\"colorbar\": {\"outlinewidth\": 0, \"ticks\": \"\"}}, \"type\": \"scattergl\"}], \"scattermapbox\": [{\"marker\": {\"colorbar\": {\"outlinewidth\": 0, \"ticks\": \"\"}}, \"type\": \"scattermapbox\"}], \"scatterpolar\": [{\"marker\": {\"colorbar\": {\"outlinewidth\": 0, \"ticks\": \"\"}}, \"type\": \"scatterpolar\"}], \"scatterpolargl\": [{\"marker\": {\"colorbar\": {\"outlinewidth\": 0, \"ticks\": \"\"}}, \"type\": \"scatterpolargl\"}], \"scatterternary\": [{\"marker\": {\"colorbar\": {\"outlinewidth\": 0, \"ticks\": \"\"}}, \"type\": \"scatterternary\"}], \"surface\": [{\"colorbar\": {\"outlinewidth\": 0, \"ticks\": \"\"}, \"colorscale\": [[0.0, \"#0d0887\"], [0.1111111111111111, \"#46039f\"], [0.2222222222222222, \"#7201a8\"], [0.3333333333333333, \"#9c179e\"], [0.4444444444444444, \"#bd3786\"], [0.5555555555555556, \"#d8576b\"], [0.6666666666666666, \"#ed7953\"], [0.7777777777777778, \"#fb9f3a\"], [0.8888888888888888, \"#fdca26\"], [1.0, \"#f0f921\"]], \"type\": \"surface\"}], \"table\": [{\"cells\": {\"fill\": {\"color\": \"#EBF0F8\"}, \"line\": {\"color\": \"white\"}}, \"header\": {\"fill\": {\"color\": \"#C8D4E3\"}, \"line\": {\"color\": \"white\"}}, \"type\": \"table\"}]}, \"layout\": {\"annotationdefaults\": {\"arrowcolor\": \"#2a3f5f\", \"arrowhead\": 0, \"arrowwidth\": 1}, \"autotypenumbers\": \"strict\", \"coloraxis\": {\"colorbar\": {\"outlinewidth\": 0, \"ticks\": \"\"}}, \"colorscale\": {\"diverging\": [[0, \"#8e0152\"], [0.1, \"#c51b7d\"], [0.2, \"#de77ae\"], [0.3, \"#f1b6da\"], [0.4, \"#fde0ef\"], [0.5, \"#f7f7f7\"], [0.6, \"#e6f5d0\"], [0.7, \"#b8e186\"], [0.8, \"#7fbc41\"], [0.9, \"#4d9221\"], [1, \"#276419\"]], \"sequential\": [[0.0, \"#0d0887\"], [0.1111111111111111, \"#46039f\"], [0.2222222222222222, \"#7201a8\"], [0.3333333333333333, \"#9c179e\"], [0.4444444444444444, \"#bd3786\"], [0.5555555555555556, \"#d8576b\"], [0.6666666666666666, \"#ed7953\"], [0.7777777777777778, \"#fb9f3a\"], [0.8888888888888888, \"#fdca26\"], [1.0, \"#f0f921\"]], \"sequentialminus\": [[0.0, \"#0d0887\"], [0.1111111111111111, \"#46039f\"], [0.2222222222222222, \"#7201a8\"], [0.3333333333333333, \"#9c179e\"], [0.4444444444444444, \"#bd3786\"], [0.5555555555555556, \"#d8576b\"], [0.6666666666666666, \"#ed7953\"], [0.7777777777777778, \"#fb9f3a\"], [0.8888888888888888, \"#fdca26\"], [1.0, \"#f0f921\"]]}, \"colorway\": [\"#636efa\", \"#EF553B\", \"#00cc96\", \"#ab63fa\", \"#FFA15A\", \"#19d3f3\", \"#FF6692\", \"#B6E880\", \"#FF97FF\", \"#FECB52\"], \"font\": {\"color\": \"#2a3f5f\"}, \"geo\": {\"bgcolor\": \"white\", \"lakecolor\": \"white\", \"landcolor\": \"#E5ECF6\", \"showlakes\": true, \"showland\": true, \"subunitcolor\": \"white\"}, \"hoverlabel\": {\"align\": \"left\"}, \"hovermode\": \"closest\", \"mapbox\": {\"style\": \"light\"}, \"paper_bgcolor\": \"white\", \"plot_bgcolor\": \"#E5ECF6\", \"polar\": {\"angularaxis\": {\"gridcolor\": \"white\", \"linecolor\": \"white\", \"ticks\": \"\"}, \"bgcolor\": \"#E5ECF6\", \"radialaxis\": {\"gridcolor\": \"white\", \"linecolor\": \"white\", \"ticks\": \"\"}}, \"scene\": {\"xaxis\": {\"backgroundcolor\": \"#E5ECF6\", \"gridcolor\": \"white\", \"gridwidth\": 2, \"linecolor\": \"white\", \"showbackground\": true, \"ticks\": \"\", \"zerolinecolor\": \"white\"}, \"yaxis\": {\"backgroundcolor\": \"#E5ECF6\", \"gridcolor\": \"white\", \"gridwidth\": 2, \"linecolor\": \"white\", \"showbackground\": true, \"ticks\": \"\", \"zerolinecolor\": \"white\"}, \"zaxis\": {\"backgroundcolor\": \"#E5ECF6\", \"gridcolor\": \"white\", \"gridwidth\": 2, \"linecolor\": \"white\", \"showbackground\": true, \"ticks\": \"\", \"zerolinecolor\": \"white\"}}, \"shapedefaults\": {\"line\": {\"color\": \"#2a3f5f\"}}, \"ternary\": {\"aaxis\": {\"gridcolor\": \"white\", \"linecolor\": \"white\", \"ticks\": \"\"}, \"baxis\": {\"gridcolor\": \"white\", \"linecolor\": \"white\", \"ticks\": \"\"}, \"bgcolor\": \"#E5ECF6\", \"caxis\": {\"gridcolor\": \"white\", \"linecolor\": \"white\", \"ticks\": \"\"}}, \"title\": {\"x\": 0.05}, \"xaxis\": {\"automargin\": true, \"gridcolor\": \"white\", \"linecolor\": \"white\", \"ticks\": \"\", \"title\": {\"standoff\": 15}, \"zerolinecolor\": \"white\", \"zerolinewidth\": 2}, \"yaxis\": {\"automargin\": true, \"gridcolor\": \"white\", \"linecolor\": \"white\", \"ticks\": \"\", \"title\": {\"standoff\": 15}, \"zerolinecolor\": \"white\", \"zerolinewidth\": 2}}}, \"title\": {\"text\": \"Histogram of Goals Scored\"}, \"xaxis\": {\"anchor\": \"y\", \"domain\": [0.0, 1.0], \"title\": {\"text\": \"Goals-Scored\"}}, \"yaxis\": {\"anchor\": \"x\", \"domain\": [0.0, 1.0], \"title\": {\"text\": \"count\"}}},                        {\"responsive\": true}                    ).then(function(){\n",
       "                            \n",
       "var gd = document.getElementById('5b69fea9-a4fe-49bb-ab9d-af27653f357c');\n",
       "var x = new MutationObserver(function (mutations, observer) {{\n",
       "        var display = window.getComputedStyle(gd).display;\n",
       "        if (!display || display === 'none') {{\n",
       "            console.log([gd, 'removed!']);\n",
       "            Plotly.purge(gd);\n",
       "            observer.disconnect();\n",
       "        }}\n",
       "}});\n",
       "\n",
       "// Listen for the removal of the full notebook cells\n",
       "var notebookContainer = gd.closest('#notebook-container');\n",
       "if (notebookContainer) {{\n",
       "    x.observe(notebookContainer, {childList: true});\n",
       "}}\n",
       "\n",
       "// Listen for the clearing of the current output cell\n",
       "var outputEl = gd.closest('.output');\n",
       "if (outputEl) {{\n",
       "    x.observe(outputEl, {childList: true});\n",
       "}}\n",
       "\n",
       "                        })                };                });            </script>        </div>"
      ]
     },
     "metadata": {},
     "output_type": "display_data"
    },
    {
     "data": {
      "application/javascript": [
       "\n",
       "            setTimeout(function() {\n",
       "                var nbb_cell_id = 4;\n",
       "                var nbb_unformatted_code = \"fig = px.histogram(df, x=\\\"F\\\", nbins=5, title='Histogram of Goals Scored', labels={'F':'Goals-Scored'})\\nfig.show()\";\n",
       "                var nbb_formatted_code = \"fig = px.histogram(\\n    df, x=\\\"F\\\", nbins=5, title=\\\"Histogram of Goals Scored\\\", labels={\\\"F\\\": \\\"Goals-Scored\\\"}\\n)\\nfig.show()\";\n",
       "                var nbb_cells = Jupyter.notebook.get_cells();\n",
       "                for (var i = 0; i < nbb_cells.length; ++i) {\n",
       "                    if (nbb_cells[i].input_prompt_number == nbb_cell_id) {\n",
       "                        if (nbb_cells[i].get_text() == nbb_unformatted_code) {\n",
       "                             nbb_cells[i].set_text(nbb_formatted_code);\n",
       "                        }\n",
       "                        break;\n",
       "                    }\n",
       "                }\n",
       "            }, 500);\n",
       "            "
      ],
      "text/plain": [
       "<IPython.core.display.Javascript object>"
      ]
     },
     "metadata": {},
     "output_type": "display_data"
    }
   ],
   "source": [
    "fig = px.histogram(df, x=\"F\", nbins=5, title='Histogram of Goals Scored', labels={'F':'Goals-Scored'})\n",
    "fig.show()"
   ]
  },
  {
   "cell_type": "markdown",
   "metadata": {},
   "source": [
    "#### We could see from the above histogram most of the teams have scored goals in the range <b>40 to 60</b>"
   ]
  },
  {
   "cell_type": "code",
   "execution_count": 5,
   "metadata": {},
   "outputs": [
    {
     "data": {
      "application/vnd.plotly.v1+json": {
       "config": {
        "plotlyServerURL": "https://plot.ly"
       },
       "data": [
        {
         "alignmentgroup": "True",
         "bingroup": "x",
         "hovertemplate": "Goals-Conceded=%{x}<br>count=%{y}<extra></extra>",
         "legendgroup": "",
         "marker": {
          "color": "#636efa"
         },
         "name": "",
         "nbinsx": 10,
         "offsetgroup": "",
         "orientation": "v",
         "showlegend": false,
         "type": "histogram",
         "x": [
          33,
          35,
          36,
          54,
          41,
          47,
          40,
          48,
          39,
          50,
          60,
          56,
          58,
          50,
          54,
          62,
          67,
          65,
          64,
          75
         ],
         "xaxis": "x",
         "yaxis": "y"
        }
       ],
       "layout": {
        "autosize": true,
        "barmode": "relative",
        "legend": {
         "tracegroupgap": 0
        },
        "template": {
         "data": {
          "bar": [
           {
            "error_x": {
             "color": "#2a3f5f"
            },
            "error_y": {
             "color": "#2a3f5f"
            },
            "marker": {
             "line": {
              "color": "#E5ECF6",
              "width": 0.5
             }
            },
            "type": "bar"
           }
          ],
          "barpolar": [
           {
            "marker": {
             "line": {
              "color": "#E5ECF6",
              "width": 0.5
             }
            },
            "type": "barpolar"
           }
          ],
          "carpet": [
           {
            "aaxis": {
             "endlinecolor": "#2a3f5f",
             "gridcolor": "white",
             "linecolor": "white",
             "minorgridcolor": "white",
             "startlinecolor": "#2a3f5f"
            },
            "baxis": {
             "endlinecolor": "#2a3f5f",
             "gridcolor": "white",
             "linecolor": "white",
             "minorgridcolor": "white",
             "startlinecolor": "#2a3f5f"
            },
            "type": "carpet"
           }
          ],
          "choropleth": [
           {
            "colorbar": {
             "outlinewidth": 0,
             "ticks": ""
            },
            "type": "choropleth"
           }
          ],
          "contour": [
           {
            "colorbar": {
             "outlinewidth": 0,
             "ticks": ""
            },
            "colorscale": [
             [
              0,
              "#0d0887"
             ],
             [
              0.1111111111111111,
              "#46039f"
             ],
             [
              0.2222222222222222,
              "#7201a8"
             ],
             [
              0.3333333333333333,
              "#9c179e"
             ],
             [
              0.4444444444444444,
              "#bd3786"
             ],
             [
              0.5555555555555556,
              "#d8576b"
             ],
             [
              0.6666666666666666,
              "#ed7953"
             ],
             [
              0.7777777777777778,
              "#fb9f3a"
             ],
             [
              0.8888888888888888,
              "#fdca26"
             ],
             [
              1,
              "#f0f921"
             ]
            ],
            "type": "contour"
           }
          ],
          "contourcarpet": [
           {
            "colorbar": {
             "outlinewidth": 0,
             "ticks": ""
            },
            "type": "contourcarpet"
           }
          ],
          "heatmap": [
           {
            "colorbar": {
             "outlinewidth": 0,
             "ticks": ""
            },
            "colorscale": [
             [
              0,
              "#0d0887"
             ],
             [
              0.1111111111111111,
              "#46039f"
             ],
             [
              0.2222222222222222,
              "#7201a8"
             ],
             [
              0.3333333333333333,
              "#9c179e"
             ],
             [
              0.4444444444444444,
              "#bd3786"
             ],
             [
              0.5555555555555556,
              "#d8576b"
             ],
             [
              0.6666666666666666,
              "#ed7953"
             ],
             [
              0.7777777777777778,
              "#fb9f3a"
             ],
             [
              0.8888888888888888,
              "#fdca26"
             ],
             [
              1,
              "#f0f921"
             ]
            ],
            "type": "heatmap"
           }
          ],
          "heatmapgl": [
           {
            "colorbar": {
             "outlinewidth": 0,
             "ticks": ""
            },
            "colorscale": [
             [
              0,
              "#0d0887"
             ],
             [
              0.1111111111111111,
              "#46039f"
             ],
             [
              0.2222222222222222,
              "#7201a8"
             ],
             [
              0.3333333333333333,
              "#9c179e"
             ],
             [
              0.4444444444444444,
              "#bd3786"
             ],
             [
              0.5555555555555556,
              "#d8576b"
             ],
             [
              0.6666666666666666,
              "#ed7953"
             ],
             [
              0.7777777777777778,
              "#fb9f3a"
             ],
             [
              0.8888888888888888,
              "#fdca26"
             ],
             [
              1,
              "#f0f921"
             ]
            ],
            "type": "heatmapgl"
           }
          ],
          "histogram": [
           {
            "marker": {
             "colorbar": {
              "outlinewidth": 0,
              "ticks": ""
             }
            },
            "type": "histogram"
           }
          ],
          "histogram2d": [
           {
            "colorbar": {
             "outlinewidth": 0,
             "ticks": ""
            },
            "colorscale": [
             [
              0,
              "#0d0887"
             ],
             [
              0.1111111111111111,
              "#46039f"
             ],
             [
              0.2222222222222222,
              "#7201a8"
             ],
             [
              0.3333333333333333,
              "#9c179e"
             ],
             [
              0.4444444444444444,
              "#bd3786"
             ],
             [
              0.5555555555555556,
              "#d8576b"
             ],
             [
              0.6666666666666666,
              "#ed7953"
             ],
             [
              0.7777777777777778,
              "#fb9f3a"
             ],
             [
              0.8888888888888888,
              "#fdca26"
             ],
             [
              1,
              "#f0f921"
             ]
            ],
            "type": "histogram2d"
           }
          ],
          "histogram2dcontour": [
           {
            "colorbar": {
             "outlinewidth": 0,
             "ticks": ""
            },
            "colorscale": [
             [
              0,
              "#0d0887"
             ],
             [
              0.1111111111111111,
              "#46039f"
             ],
             [
              0.2222222222222222,
              "#7201a8"
             ],
             [
              0.3333333333333333,
              "#9c179e"
             ],
             [
              0.4444444444444444,
              "#bd3786"
             ],
             [
              0.5555555555555556,
              "#d8576b"
             ],
             [
              0.6666666666666666,
              "#ed7953"
             ],
             [
              0.7777777777777778,
              "#fb9f3a"
             ],
             [
              0.8888888888888888,
              "#fdca26"
             ],
             [
              1,
              "#f0f921"
             ]
            ],
            "type": "histogram2dcontour"
           }
          ],
          "mesh3d": [
           {
            "colorbar": {
             "outlinewidth": 0,
             "ticks": ""
            },
            "type": "mesh3d"
           }
          ],
          "parcoords": [
           {
            "line": {
             "colorbar": {
              "outlinewidth": 0,
              "ticks": ""
             }
            },
            "type": "parcoords"
           }
          ],
          "pie": [
           {
            "automargin": true,
            "type": "pie"
           }
          ],
          "scatter": [
           {
            "marker": {
             "colorbar": {
              "outlinewidth": 0,
              "ticks": ""
             }
            },
            "type": "scatter"
           }
          ],
          "scatter3d": [
           {
            "line": {
             "colorbar": {
              "outlinewidth": 0,
              "ticks": ""
             }
            },
            "marker": {
             "colorbar": {
              "outlinewidth": 0,
              "ticks": ""
             }
            },
            "type": "scatter3d"
           }
          ],
          "scattercarpet": [
           {
            "marker": {
             "colorbar": {
              "outlinewidth": 0,
              "ticks": ""
             }
            },
            "type": "scattercarpet"
           }
          ],
          "scattergeo": [
           {
            "marker": {
             "colorbar": {
              "outlinewidth": 0,
              "ticks": ""
             }
            },
            "type": "scattergeo"
           }
          ],
          "scattergl": [
           {
            "marker": {
             "colorbar": {
              "outlinewidth": 0,
              "ticks": ""
             }
            },
            "type": "scattergl"
           }
          ],
          "scattermapbox": [
           {
            "marker": {
             "colorbar": {
              "outlinewidth": 0,
              "ticks": ""
             }
            },
            "type": "scattermapbox"
           }
          ],
          "scatterpolar": [
           {
            "marker": {
             "colorbar": {
              "outlinewidth": 0,
              "ticks": ""
             }
            },
            "type": "scatterpolar"
           }
          ],
          "scatterpolargl": [
           {
            "marker": {
             "colorbar": {
              "outlinewidth": 0,
              "ticks": ""
             }
            },
            "type": "scatterpolargl"
           }
          ],
          "scatterternary": [
           {
            "marker": {
             "colorbar": {
              "outlinewidth": 0,
              "ticks": ""
             }
            },
            "type": "scatterternary"
           }
          ],
          "surface": [
           {
            "colorbar": {
             "outlinewidth": 0,
             "ticks": ""
            },
            "colorscale": [
             [
              0,
              "#0d0887"
             ],
             [
              0.1111111111111111,
              "#46039f"
             ],
             [
              0.2222222222222222,
              "#7201a8"
             ],
             [
              0.3333333333333333,
              "#9c179e"
             ],
             [
              0.4444444444444444,
              "#bd3786"
             ],
             [
              0.5555555555555556,
              "#d8576b"
             ],
             [
              0.6666666666666666,
              "#ed7953"
             ],
             [
              0.7777777777777778,
              "#fb9f3a"
             ],
             [
              0.8888888888888888,
              "#fdca26"
             ],
             [
              1,
              "#f0f921"
             ]
            ],
            "type": "surface"
           }
          ],
          "table": [
           {
            "cells": {
             "fill": {
              "color": "#EBF0F8"
             },
             "line": {
              "color": "white"
             }
            },
            "header": {
             "fill": {
              "color": "#C8D4E3"
             },
             "line": {
              "color": "white"
             }
            },
            "type": "table"
           }
          ]
         },
         "layout": {
          "annotationdefaults": {
           "arrowcolor": "#2a3f5f",
           "arrowhead": 0,
           "arrowwidth": 1
          },
          "autotypenumbers": "strict",
          "coloraxis": {
           "colorbar": {
            "outlinewidth": 0,
            "ticks": ""
           }
          },
          "colorscale": {
           "diverging": [
            [
             0,
             "#8e0152"
            ],
            [
             0.1,
             "#c51b7d"
            ],
            [
             0.2,
             "#de77ae"
            ],
            [
             0.3,
             "#f1b6da"
            ],
            [
             0.4,
             "#fde0ef"
            ],
            [
             0.5,
             "#f7f7f7"
            ],
            [
             0.6,
             "#e6f5d0"
            ],
            [
             0.7,
             "#b8e186"
            ],
            [
             0.8,
             "#7fbc41"
            ],
            [
             0.9,
             "#4d9221"
            ],
            [
             1,
             "#276419"
            ]
           ],
           "sequential": [
            [
             0,
             "#0d0887"
            ],
            [
             0.1111111111111111,
             "#46039f"
            ],
            [
             0.2222222222222222,
             "#7201a8"
            ],
            [
             0.3333333333333333,
             "#9c179e"
            ],
            [
             0.4444444444444444,
             "#bd3786"
            ],
            [
             0.5555555555555556,
             "#d8576b"
            ],
            [
             0.6666666666666666,
             "#ed7953"
            ],
            [
             0.7777777777777778,
             "#fb9f3a"
            ],
            [
             0.8888888888888888,
             "#fdca26"
            ],
            [
             1,
             "#f0f921"
            ]
           ],
           "sequentialminus": [
            [
             0,
             "#0d0887"
            ],
            [
             0.1111111111111111,
             "#46039f"
            ],
            [
             0.2222222222222222,
             "#7201a8"
            ],
            [
             0.3333333333333333,
             "#9c179e"
            ],
            [
             0.4444444444444444,
             "#bd3786"
            ],
            [
             0.5555555555555556,
             "#d8576b"
            ],
            [
             0.6666666666666666,
             "#ed7953"
            ],
            [
             0.7777777777777778,
             "#fb9f3a"
            ],
            [
             0.8888888888888888,
             "#fdca26"
            ],
            [
             1,
             "#f0f921"
            ]
           ]
          },
          "colorway": [
           "#636efa",
           "#EF553B",
           "#00cc96",
           "#ab63fa",
           "#FFA15A",
           "#19d3f3",
           "#FF6692",
           "#B6E880",
           "#FF97FF",
           "#FECB52"
          ],
          "font": {
           "color": "#2a3f5f"
          },
          "geo": {
           "bgcolor": "white",
           "lakecolor": "white",
           "landcolor": "#E5ECF6",
           "showlakes": true,
           "showland": true,
           "subunitcolor": "white"
          },
          "hoverlabel": {
           "align": "left"
          },
          "hovermode": "closest",
          "mapbox": {
           "style": "light"
          },
          "paper_bgcolor": "white",
          "plot_bgcolor": "#E5ECF6",
          "polar": {
           "angularaxis": {
            "gridcolor": "white",
            "linecolor": "white",
            "ticks": ""
           },
           "bgcolor": "#E5ECF6",
           "radialaxis": {
            "gridcolor": "white",
            "linecolor": "white",
            "ticks": ""
           }
          },
          "scene": {
           "xaxis": {
            "backgroundcolor": "#E5ECF6",
            "gridcolor": "white",
            "gridwidth": 2,
            "linecolor": "white",
            "showbackground": true,
            "ticks": "",
            "zerolinecolor": "white"
           },
           "yaxis": {
            "backgroundcolor": "#E5ECF6",
            "gridcolor": "white",
            "gridwidth": 2,
            "linecolor": "white",
            "showbackground": true,
            "ticks": "",
            "zerolinecolor": "white"
           },
           "zaxis": {
            "backgroundcolor": "#E5ECF6",
            "gridcolor": "white",
            "gridwidth": 2,
            "linecolor": "white",
            "showbackground": true,
            "ticks": "",
            "zerolinecolor": "white"
           }
          },
          "shapedefaults": {
           "line": {
            "color": "#2a3f5f"
           }
          },
          "ternary": {
           "aaxis": {
            "gridcolor": "white",
            "linecolor": "white",
            "ticks": ""
           },
           "baxis": {
            "gridcolor": "white",
            "linecolor": "white",
            "ticks": ""
           },
           "bgcolor": "#E5ECF6",
           "caxis": {
            "gridcolor": "white",
            "linecolor": "white",
            "ticks": ""
           }
          },
          "title": {
           "x": 0.05
          },
          "xaxis": {
           "automargin": true,
           "gridcolor": "white",
           "linecolor": "white",
           "ticks": "",
           "title": {
            "standoff": 15
           },
           "zerolinecolor": "white",
           "zerolinewidth": 2
          },
          "yaxis": {
           "automargin": true,
           "gridcolor": "white",
           "linecolor": "white",
           "ticks": "",
           "title": {
            "standoff": 15
           },
           "zerolinecolor": "white",
           "zerolinewidth": 2
          }
         }
        },
        "title": {
         "text": "Histogram of Goals Conceded"
        },
        "xaxis": {
         "anchor": "y",
         "autorange": true,
         "domain": [
          0,
          1
         ],
         "range": [
          29.5,
          79.5
         ],
         "title": {
          "text": "Goals-Conceded"
         },
         "type": "linear"
        },
        "yaxis": {
         "anchor": "x",
         "autorange": true,
         "domain": [
          0,
          1
         ],
         "range": [
          0,
          4.2105263157894735
         ],
         "title": {
          "text": "count"
         }
        }
       }
      },
      "image/png": "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",
      "text/html": [
       "<div>                            <div id=\"2cb9c66a-51dc-4919-9242-7e46d88f18c3\" class=\"plotly-graph-div\" style=\"height:525px; width:100%;\"></div>            <script type=\"text/javascript\">                require([\"plotly\"], function(Plotly) {                    window.PLOTLYENV=window.PLOTLYENV || {};                                    if (document.getElementById(\"2cb9c66a-51dc-4919-9242-7e46d88f18c3\")) {                    Plotly.newPlot(                        \"2cb9c66a-51dc-4919-9242-7e46d88f18c3\",                        [{\"alignmentgroup\": \"True\", \"bingroup\": \"x\", \"hovertemplate\": \"Goals-Conceded=%{x}<br>count=%{y}<extra></extra>\", \"legendgroup\": \"\", \"marker\": {\"color\": \"#636efa\"}, \"name\": \"\", \"nbinsx\": 10, \"offsetgroup\": \"\", \"orientation\": \"v\", \"showlegend\": false, \"type\": \"histogram\", \"x\": [33, 35, 36, 54, 41, 47, 40, 48, 39, 50, 60, 56, 58, 50, 54, 62, 67, 65, 64, 75], \"xaxis\": \"x\", \"yaxis\": \"y\"}],                        {\"barmode\": \"relative\", \"legend\": {\"tracegroupgap\": 0}, \"template\": {\"data\": {\"bar\": [{\"error_x\": {\"color\": \"#2a3f5f\"}, \"error_y\": {\"color\": \"#2a3f5f\"}, \"marker\": {\"line\": {\"color\": \"#E5ECF6\", \"width\": 0.5}}, \"type\": \"bar\"}], \"barpolar\": [{\"marker\": {\"line\": {\"color\": \"#E5ECF6\", \"width\": 0.5}}, \"type\": \"barpolar\"}], \"carpet\": [{\"aaxis\": {\"endlinecolor\": \"#2a3f5f\", \"gridcolor\": \"white\", \"linecolor\": \"white\", \"minorgridcolor\": \"white\", \"startlinecolor\": \"#2a3f5f\"}, \"baxis\": {\"endlinecolor\": \"#2a3f5f\", \"gridcolor\": \"white\", \"linecolor\": \"white\", \"minorgridcolor\": \"white\", \"startlinecolor\": \"#2a3f5f\"}, \"type\": \"carpet\"}], \"choropleth\": [{\"colorbar\": {\"outlinewidth\": 0, \"ticks\": \"\"}, \"type\": \"choropleth\"}], \"contour\": [{\"colorbar\": {\"outlinewidth\": 0, \"ticks\": \"\"}, \"colorscale\": [[0.0, \"#0d0887\"], [0.1111111111111111, \"#46039f\"], [0.2222222222222222, \"#7201a8\"], [0.3333333333333333, \"#9c179e\"], [0.4444444444444444, \"#bd3786\"], [0.5555555555555556, \"#d8576b\"], [0.6666666666666666, \"#ed7953\"], [0.7777777777777778, \"#fb9f3a\"], [0.8888888888888888, \"#fdca26\"], [1.0, \"#f0f921\"]], \"type\": \"contour\"}], \"contourcarpet\": [{\"colorbar\": {\"outlinewidth\": 0, \"ticks\": \"\"}, \"type\": \"contourcarpet\"}], \"heatmap\": [{\"colorbar\": {\"outlinewidth\": 0, \"ticks\": \"\"}, \"colorscale\": [[0.0, \"#0d0887\"], [0.1111111111111111, \"#46039f\"], [0.2222222222222222, \"#7201a8\"], [0.3333333333333333, \"#9c179e\"], [0.4444444444444444, \"#bd3786\"], [0.5555555555555556, \"#d8576b\"], [0.6666666666666666, \"#ed7953\"], [0.7777777777777778, \"#fb9f3a\"], [0.8888888888888888, \"#fdca26\"], [1.0, \"#f0f921\"]], \"type\": \"heatmap\"}], \"heatmapgl\": [{\"colorbar\": {\"outlinewidth\": 0, \"ticks\": \"\"}, \"colorscale\": [[0.0, \"#0d0887\"], [0.1111111111111111, \"#46039f\"], [0.2222222222222222, \"#7201a8\"], [0.3333333333333333, \"#9c179e\"], [0.4444444444444444, \"#bd3786\"], [0.5555555555555556, \"#d8576b\"], [0.6666666666666666, \"#ed7953\"], [0.7777777777777778, \"#fb9f3a\"], [0.8888888888888888, \"#fdca26\"], [1.0, \"#f0f921\"]], \"type\": \"heatmapgl\"}], \"histogram\": [{\"marker\": {\"colorbar\": {\"outlinewidth\": 0, \"ticks\": \"\"}}, \"type\": \"histogram\"}], \"histogram2d\": [{\"colorbar\": {\"outlinewidth\": 0, \"ticks\": \"\"}, \"colorscale\": [[0.0, \"#0d0887\"], [0.1111111111111111, \"#46039f\"], [0.2222222222222222, \"#7201a8\"], [0.3333333333333333, \"#9c179e\"], [0.4444444444444444, \"#bd3786\"], [0.5555555555555556, \"#d8576b\"], [0.6666666666666666, \"#ed7953\"], [0.7777777777777778, \"#fb9f3a\"], [0.8888888888888888, \"#fdca26\"], [1.0, \"#f0f921\"]], \"type\": \"histogram2d\"}], \"histogram2dcontour\": [{\"colorbar\": {\"outlinewidth\": 0, \"ticks\": \"\"}, \"colorscale\": [[0.0, \"#0d0887\"], [0.1111111111111111, \"#46039f\"], [0.2222222222222222, \"#7201a8\"], [0.3333333333333333, \"#9c179e\"], [0.4444444444444444, \"#bd3786\"], [0.5555555555555556, \"#d8576b\"], [0.6666666666666666, \"#ed7953\"], [0.7777777777777778, \"#fb9f3a\"], [0.8888888888888888, \"#fdca26\"], [1.0, \"#f0f921\"]], \"type\": \"histogram2dcontour\"}], \"mesh3d\": [{\"colorbar\": {\"outlinewidth\": 0, \"ticks\": \"\"}, \"type\": \"mesh3d\"}], \"parcoords\": [{\"line\": {\"colorbar\": {\"outlinewidth\": 0, \"ticks\": \"\"}}, \"type\": \"parcoords\"}], \"pie\": [{\"automargin\": true, \"type\": \"pie\"}], \"scatter\": [{\"marker\": {\"colorbar\": {\"outlinewidth\": 0, \"ticks\": \"\"}}, \"type\": \"scatter\"}], \"scatter3d\": [{\"line\": {\"colorbar\": {\"outlinewidth\": 0, \"ticks\": \"\"}}, \"marker\": {\"colorbar\": {\"outlinewidth\": 0, \"ticks\": \"\"}}, \"type\": \"scatter3d\"}], \"scattercarpet\": [{\"marker\": {\"colorbar\": {\"outlinewidth\": 0, \"ticks\": \"\"}}, \"type\": \"scattercarpet\"}], \"scattergeo\": [{\"marker\": {\"colorbar\": {\"outlinewidth\": 0, \"ticks\": \"\"}}, \"type\": \"scattergeo\"}], \"scattergl\": [{\"marker\": {\"colorbar\": {\"outlinewidth\": 0, \"ticks\": \"\"}}, \"type\": \"scattergl\"}], \"scattermapbox\": [{\"marker\": {\"colorbar\": {\"outlinewidth\": 0, \"ticks\": \"\"}}, \"type\": \"scattermapbox\"}], \"scatterpolar\": [{\"marker\": {\"colorbar\": {\"outlinewidth\": 0, \"ticks\": \"\"}}, \"type\": \"scatterpolar\"}], \"scatterpolargl\": [{\"marker\": {\"colorbar\": {\"outlinewidth\": 0, \"ticks\": \"\"}}, \"type\": \"scatterpolargl\"}], \"scatterternary\": [{\"marker\": {\"colorbar\": {\"outlinewidth\": 0, \"ticks\": \"\"}}, \"type\": \"scatterternary\"}], \"surface\": [{\"colorbar\": {\"outlinewidth\": 0, \"ticks\": \"\"}, \"colorscale\": [[0.0, \"#0d0887\"], [0.1111111111111111, \"#46039f\"], [0.2222222222222222, \"#7201a8\"], [0.3333333333333333, \"#9c179e\"], [0.4444444444444444, \"#bd3786\"], [0.5555555555555556, \"#d8576b\"], [0.6666666666666666, \"#ed7953\"], [0.7777777777777778, \"#fb9f3a\"], [0.8888888888888888, \"#fdca26\"], [1.0, \"#f0f921\"]], \"type\": \"surface\"}], \"table\": [{\"cells\": {\"fill\": {\"color\": \"#EBF0F8\"}, \"line\": {\"color\": \"white\"}}, \"header\": {\"fill\": {\"color\": \"#C8D4E3\"}, \"line\": {\"color\": \"white\"}}, \"type\": \"table\"}]}, \"layout\": {\"annotationdefaults\": {\"arrowcolor\": \"#2a3f5f\", \"arrowhead\": 0, \"arrowwidth\": 1}, \"autotypenumbers\": \"strict\", \"coloraxis\": {\"colorbar\": {\"outlinewidth\": 0, \"ticks\": \"\"}}, \"colorscale\": {\"diverging\": [[0, \"#8e0152\"], [0.1, \"#c51b7d\"], [0.2, \"#de77ae\"], [0.3, \"#f1b6da\"], [0.4, \"#fde0ef\"], [0.5, \"#f7f7f7\"], [0.6, \"#e6f5d0\"], [0.7, \"#b8e186\"], [0.8, \"#7fbc41\"], [0.9, \"#4d9221\"], [1, \"#276419\"]], \"sequential\": [[0.0, \"#0d0887\"], [0.1111111111111111, \"#46039f\"], [0.2222222222222222, \"#7201a8\"], [0.3333333333333333, \"#9c179e\"], [0.4444444444444444, \"#bd3786\"], [0.5555555555555556, \"#d8576b\"], [0.6666666666666666, \"#ed7953\"], [0.7777777777777778, \"#fb9f3a\"], [0.8888888888888888, \"#fdca26\"], [1.0, \"#f0f921\"]], \"sequentialminus\": [[0.0, \"#0d0887\"], [0.1111111111111111, \"#46039f\"], [0.2222222222222222, \"#7201a8\"], [0.3333333333333333, \"#9c179e\"], [0.4444444444444444, \"#bd3786\"], [0.5555555555555556, \"#d8576b\"], [0.6666666666666666, \"#ed7953\"], [0.7777777777777778, \"#fb9f3a\"], [0.8888888888888888, \"#fdca26\"], [1.0, \"#f0f921\"]]}, \"colorway\": [\"#636efa\", \"#EF553B\", \"#00cc96\", \"#ab63fa\", \"#FFA15A\", \"#19d3f3\", \"#FF6692\", \"#B6E880\", \"#FF97FF\", \"#FECB52\"], \"font\": {\"color\": \"#2a3f5f\"}, \"geo\": {\"bgcolor\": \"white\", \"lakecolor\": \"white\", \"landcolor\": \"#E5ECF6\", \"showlakes\": true, \"showland\": true, \"subunitcolor\": \"white\"}, \"hoverlabel\": {\"align\": \"left\"}, \"hovermode\": \"closest\", \"mapbox\": {\"style\": \"light\"}, \"paper_bgcolor\": \"white\", \"plot_bgcolor\": \"#E5ECF6\", \"polar\": {\"angularaxis\": {\"gridcolor\": \"white\", \"linecolor\": \"white\", \"ticks\": \"\"}, \"bgcolor\": \"#E5ECF6\", \"radialaxis\": {\"gridcolor\": \"white\", \"linecolor\": \"white\", \"ticks\": \"\"}}, \"scene\": {\"xaxis\": {\"backgroundcolor\": \"#E5ECF6\", \"gridcolor\": \"white\", \"gridwidth\": 2, \"linecolor\": \"white\", \"showbackground\": true, \"ticks\": \"\", \"zerolinecolor\": \"white\"}, \"yaxis\": {\"backgroundcolor\": \"#E5ECF6\", \"gridcolor\": \"white\", \"gridwidth\": 2, \"linecolor\": \"white\", \"showbackground\": true, \"ticks\": \"\", \"zerolinecolor\": \"white\"}, \"zaxis\": {\"backgroundcolor\": \"#E5ECF6\", \"gridcolor\": \"white\", \"gridwidth\": 2, \"linecolor\": \"white\", \"showbackground\": true, \"ticks\": \"\", \"zerolinecolor\": \"white\"}}, \"shapedefaults\": {\"line\": {\"color\": \"#2a3f5f\"}}, \"ternary\": {\"aaxis\": {\"gridcolor\": \"white\", \"linecolor\": \"white\", \"ticks\": \"\"}, \"baxis\": {\"gridcolor\": \"white\", \"linecolor\": \"white\", \"ticks\": \"\"}, \"bgcolor\": \"#E5ECF6\", \"caxis\": {\"gridcolor\": \"white\", \"linecolor\": \"white\", \"ticks\": \"\"}}, \"title\": {\"x\": 0.05}, \"xaxis\": {\"automargin\": true, \"gridcolor\": \"white\", \"linecolor\": \"white\", \"ticks\": \"\", \"title\": {\"standoff\": 15}, \"zerolinecolor\": \"white\", \"zerolinewidth\": 2}, \"yaxis\": {\"automargin\": true, \"gridcolor\": \"white\", \"linecolor\": \"white\", \"ticks\": \"\", \"title\": {\"standoff\": 15}, \"zerolinecolor\": \"white\", \"zerolinewidth\": 2}}}, \"title\": {\"text\": \"Histogram of Goals Conceded\"}, \"xaxis\": {\"anchor\": \"y\", \"domain\": [0.0, 1.0], \"title\": {\"text\": \"Goals-Conceded\"}}, \"yaxis\": {\"anchor\": \"x\", \"domain\": [0.0, 1.0], \"title\": {\"text\": \"count\"}}},                        {\"responsive\": true}                    ).then(function(){\n",
       "                            \n",
       "var gd = document.getElementById('2cb9c66a-51dc-4919-9242-7e46d88f18c3');\n",
       "var x = new MutationObserver(function (mutations, observer) {{\n",
       "        var display = window.getComputedStyle(gd).display;\n",
       "        if (!display || display === 'none') {{\n",
       "            console.log([gd, 'removed!']);\n",
       "            Plotly.purge(gd);\n",
       "            observer.disconnect();\n",
       "        }}\n",
       "}});\n",
       "\n",
       "// Listen for the removal of the full notebook cells\n",
       "var notebookContainer = gd.closest('#notebook-container');\n",
       "if (notebookContainer) {{\n",
       "    x.observe(notebookContainer, {childList: true});\n",
       "}}\n",
       "\n",
       "// Listen for the clearing of the current output cell\n",
       "var outputEl = gd.closest('.output');\n",
       "if (outputEl) {{\n",
       "    x.observe(outputEl, {childList: true});\n",
       "}}\n",
       "\n",
       "                        })                };                });            </script>        </div>"
      ]
     },
     "metadata": {},
     "output_type": "display_data"
    },
    {
     "data": {
      "application/javascript": [
       "\n",
       "            setTimeout(function() {\n",
       "                var nbb_cell_id = 5;\n",
       "                var nbb_unformatted_code = \"fig = px.histogram(df, x=\\\"A\\\", nbins=10, title='Histogram of Goals Conceded', labels={'A':'Goals-Conceded'})\\nfig.show()\";\n",
       "                var nbb_formatted_code = \"fig = px.histogram(\\n    df,\\n    x=\\\"A\\\",\\n    nbins=10,\\n    title=\\\"Histogram of Goals Conceded\\\",\\n    labels={\\\"A\\\": \\\"Goals-Conceded\\\"},\\n)\\nfig.show()\";\n",
       "                var nbb_cells = Jupyter.notebook.get_cells();\n",
       "                for (var i = 0; i < nbb_cells.length; ++i) {\n",
       "                    if (nbb_cells[i].input_prompt_number == nbb_cell_id) {\n",
       "                        if (nbb_cells[i].get_text() == nbb_unformatted_code) {\n",
       "                             nbb_cells[i].set_text(nbb_formatted_code);\n",
       "                        }\n",
       "                        break;\n",
       "                    }\n",
       "                }\n",
       "            }, 500);\n",
       "            "
      ],
      "text/plain": [
       "<IPython.core.display.Javascript object>"
      ]
     },
     "metadata": {},
     "output_type": "display_data"
    }
   ],
   "source": [
    "fig = px.histogram(df, x=\"A\", nbins=10, title='Histogram of Goals Conceded', labels={'A':'Goals-Conceded'})\n",
    "fig.show()"
   ]
  },
  {
   "cell_type": "markdown",
   "metadata": {},
   "source": [
    "#### From the above graph, it is seen that most teams conceded <b>50-54</b> goals in the premier league<br>"
   ]
  },
  {
   "cell_type": "code",
   "execution_count": 6,
   "metadata": {},
   "outputs": [
    {
     "data": {
      "text/plain": [
       "W       32\n",
       "D       14\n",
       "L       27\n",
       "F      102\n",
       "A       75\n",
       "GD      67\n",
       "Pts     99\n",
       "dtype: int64"
      ]
     },
     "execution_count": 6,
     "metadata": {},
     "output_type": "execute_result"
    },
    {
     "data": {
      "application/javascript": [
       "\n",
       "            setTimeout(function() {\n",
       "                var nbb_cell_id = 6;\n",
       "                var nbb_unformatted_code = \"# Max in all fields\\ndf.iloc[:,2:].max()\";\n",
       "                var nbb_formatted_code = \"# Max in all fields\\ndf.iloc[:, 2:].max()\";\n",
       "                var nbb_cells = Jupyter.notebook.get_cells();\n",
       "                for (var i = 0; i < nbb_cells.length; ++i) {\n",
       "                    if (nbb_cells[i].input_prompt_number == nbb_cell_id) {\n",
       "                        if (nbb_cells[i].get_text() == nbb_unformatted_code) {\n",
       "                             nbb_cells[i].set_text(nbb_formatted_code);\n",
       "                        }\n",
       "                        break;\n",
       "                    }\n",
       "                }\n",
       "            }, 500);\n",
       "            "
      ],
      "text/plain": [
       "<IPython.core.display.Javascript object>"
      ]
     },
     "metadata": {},
     "output_type": "display_data"
    }
   ],
   "source": [
    "# Max in all fields\n",
    "df.iloc[:,2:].max()"
   ]
  },
  {
   "cell_type": "code",
   "execution_count": 7,
   "metadata": {},
   "outputs": [
    {
     "data": {
      "text/plain": [
       "'Manchester City'"
      ]
     },
     "execution_count": 7,
     "metadata": {},
     "output_type": "execute_result"
    },
    {
     "data": {
      "application/javascript": [
       "\n",
       "            setTimeout(function() {\n",
       "                var nbb_cell_id = 7;\n",
       "                var nbb_unformatted_code = \"df.iloc[df.F.argmax(),1]\";\n",
       "                var nbb_formatted_code = \"df.iloc[df.F.argmax(), 1]\";\n",
       "                var nbb_cells = Jupyter.notebook.get_cells();\n",
       "                for (var i = 0; i < nbb_cells.length; ++i) {\n",
       "                    if (nbb_cells[i].input_prompt_number == nbb_cell_id) {\n",
       "                        if (nbb_cells[i].get_text() == nbb_unformatted_code) {\n",
       "                             nbb_cells[i].set_text(nbb_formatted_code);\n",
       "                        }\n",
       "                        break;\n",
       "                    }\n",
       "                }\n",
       "            }, 500);\n",
       "            "
      ],
      "text/plain": [
       "<IPython.core.display.Javascript object>"
      ]
     },
     "metadata": {},
     "output_type": "display_data"
    }
   ],
   "source": [
    "df.iloc[df.F.argmax(),1]"
   ]
  },
  {
   "cell_type": "code",
   "execution_count": 8,
   "metadata": {},
   "outputs": [
    {
     "data": {
      "text/plain": [
       "102"
      ]
     },
     "execution_count": 8,
     "metadata": {},
     "output_type": "execute_result"
    },
    {
     "data": {
      "application/javascript": [
       "\n",
       "            setTimeout(function() {\n",
       "                var nbb_cell_id = 8;\n",
       "                var nbb_unformatted_code = \"df.iloc[df.F.argmax(),5]\";\n",
       "                var nbb_formatted_code = \"df.iloc[df.F.argmax(), 5]\";\n",
       "                var nbb_cells = Jupyter.notebook.get_cells();\n",
       "                for (var i = 0; i < nbb_cells.length; ++i) {\n",
       "                    if (nbb_cells[i].input_prompt_number == nbb_cell_id) {\n",
       "                        if (nbb_cells[i].get_text() == nbb_unformatted_code) {\n",
       "                             nbb_cells[i].set_text(nbb_formatted_code);\n",
       "                        }\n",
       "                        break;\n",
       "                    }\n",
       "                }\n",
       "            }, 500);\n",
       "            "
      ],
      "text/plain": [
       "<IPython.core.display.Javascript object>"
      ]
     },
     "metadata": {},
     "output_type": "display_data"
    }
   ],
   "source": [
    "df.iloc[df.F.argmax(),5]"
   ]
  },
  {
   "cell_type": "markdown",
   "metadata": {},
   "source": [
    "#### Most goals scored by a Team - <b>Manchester City<b> (102)<br>"
   ]
  },
  {
   "cell_type": "code",
   "execution_count": 9,
   "metadata": {},
   "outputs": [
    {
     "data": {
      "text/plain": [
       "'Norwich City'"
      ]
     },
     "execution_count": 9,
     "metadata": {},
     "output_type": "execute_result"
    },
    {
     "data": {
      "application/javascript": [
       "\n",
       "            setTimeout(function() {\n",
       "                var nbb_cell_id = 9;\n",
       "                var nbb_unformatted_code = \"df.iloc[df.A.argmax(),1]\";\n",
       "                var nbb_formatted_code = \"df.iloc[df.A.argmax(), 1]\";\n",
       "                var nbb_cells = Jupyter.notebook.get_cells();\n",
       "                for (var i = 0; i < nbb_cells.length; ++i) {\n",
       "                    if (nbb_cells[i].input_prompt_number == nbb_cell_id) {\n",
       "                        if (nbb_cells[i].get_text() == nbb_unformatted_code) {\n",
       "                             nbb_cells[i].set_text(nbb_formatted_code);\n",
       "                        }\n",
       "                        break;\n",
       "                    }\n",
       "                }\n",
       "            }, 500);\n",
       "            "
      ],
      "text/plain": [
       "<IPython.core.display.Javascript object>"
      ]
     },
     "metadata": {},
     "output_type": "display_data"
    }
   ],
   "source": [
    "df.iloc[df.A.argmax(),1]"
   ]
  },
  {
   "cell_type": "code",
   "execution_count": 10,
   "metadata": {},
   "outputs": [
    {
     "data": {
      "text/plain": [
       "75"
      ]
     },
     "execution_count": 10,
     "metadata": {},
     "output_type": "execute_result"
    },
    {
     "data": {
      "application/javascript": [
       "\n",
       "            setTimeout(function() {\n",
       "                var nbb_cell_id = 10;\n",
       "                var nbb_unformatted_code = \"df.iloc[df.A.argmax(),6]\";\n",
       "                var nbb_formatted_code = \"df.iloc[df.A.argmax(), 6]\";\n",
       "                var nbb_cells = Jupyter.notebook.get_cells();\n",
       "                for (var i = 0; i < nbb_cells.length; ++i) {\n",
       "                    if (nbb_cells[i].input_prompt_number == nbb_cell_id) {\n",
       "                        if (nbb_cells[i].get_text() == nbb_unformatted_code) {\n",
       "                             nbb_cells[i].set_text(nbb_formatted_code);\n",
       "                        }\n",
       "                        break;\n",
       "                    }\n",
       "                }\n",
       "            }, 500);\n",
       "            "
      ],
      "text/plain": [
       "<IPython.core.display.Javascript object>"
      ]
     },
     "metadata": {},
     "output_type": "display_data"
    }
   ],
   "source": [
    "df.iloc[df.A.argmax(),6]"
   ]
  },
  {
   "cell_type": "markdown",
   "metadata": {},
   "source": [
    "#### Most goals conceded by a Team - <b>Norwich City<b> (75)<br>"
   ]
  },
  {
   "cell_type": "code",
   "execution_count": 11,
   "metadata": {},
   "outputs": [
    {
     "data": {
      "text/plain": [
       "['Wolverhampton Wanderers', 'Arsenal', 'Brighton and Hove Albion']"
      ]
     },
     "execution_count": 11,
     "metadata": {},
     "output_type": "execute_result"
    },
    {
     "data": {
      "application/javascript": [
       "\n",
       "            setTimeout(function() {\n",
       "                var nbb_cell_id = 11;\n",
       "                var nbb_unformatted_code = \"draw = np.argwhere(df.D.tolist() == np.amax(df.D.tolist()))\\ndf.iloc[draw.flatten().tolist(), 1].tolist()\";\n",
       "                var nbb_formatted_code = \"draw = np.argwhere(df.D.tolist() == np.amax(df.D.tolist()))\\ndf.iloc[draw.flatten().tolist(), 1].tolist()\";\n",
       "                var nbb_cells = Jupyter.notebook.get_cells();\n",
       "                for (var i = 0; i < nbb_cells.length; ++i) {\n",
       "                    if (nbb_cells[i].input_prompt_number == nbb_cell_id) {\n",
       "                        if (nbb_cells[i].get_text() == nbb_unformatted_code) {\n",
       "                             nbb_cells[i].set_text(nbb_formatted_code);\n",
       "                        }\n",
       "                        break;\n",
       "                    }\n",
       "                }\n",
       "            }, 500);\n",
       "            "
      ],
      "text/plain": [
       "<IPython.core.display.Javascript object>"
      ]
     },
     "metadata": {},
     "output_type": "display_data"
    }
   ],
   "source": [
    "draw = np.argwhere(df.D.tolist() == np.amax(df.D.tolist()))\n",
    "df.iloc[draw.flatten().tolist(), 1].tolist()"
   ]
  },
  {
   "cell_type": "code",
   "execution_count": 12,
   "metadata": {},
   "outputs": [
    {
     "data": {
      "text/plain": [
       "6     14\n",
       "7     14\n",
       "14    14\n",
       "Name: D, dtype: int64"
      ]
     },
     "execution_count": 12,
     "metadata": {},
     "output_type": "execute_result"
    },
    {
     "data": {
      "application/javascript": [
       "\n",
       "            setTimeout(function() {\n",
       "                var nbb_cell_id = 12;\n",
       "                var nbb_unformatted_code = \"df.iloc[draw.flatten().tolist(), 3]\";\n",
       "                var nbb_formatted_code = \"df.iloc[draw.flatten().tolist(), 3]\";\n",
       "                var nbb_cells = Jupyter.notebook.get_cells();\n",
       "                for (var i = 0; i < nbb_cells.length; ++i) {\n",
       "                    if (nbb_cells[i].input_prompt_number == nbb_cell_id) {\n",
       "                        if (nbb_cells[i].get_text() == nbb_unformatted_code) {\n",
       "                             nbb_cells[i].set_text(nbb_formatted_code);\n",
       "                        }\n",
       "                        break;\n",
       "                    }\n",
       "                }\n",
       "            }, 500);\n",
       "            "
      ],
      "text/plain": [
       "<IPython.core.display.Javascript object>"
      ]
     },
     "metadata": {},
     "output_type": "display_data"
    }
   ],
   "source": [
    "df.iloc[draw.flatten().tolist(), 3]"
   ]
  },
  {
   "cell_type": "markdown",
   "metadata": {},
   "source": [
    "#### Most draw matches - <b>'Wolverhampton Wanderers', 'Arsenal', 'Brighton and Hove Albion'<b> (14)<br>\n"
   ]
  },
  {
   "cell_type": "code",
   "execution_count": 13,
   "metadata": {},
   "outputs": [
    {
     "data": {
      "application/javascript": [
       "\n",
       "            setTimeout(function() {\n",
       "                var nbb_cell_id = 13;\n",
       "                var nbb_unformatted_code = \"df[\\\"W/L\\\"] = round(df['W']/df['L'], 2)  # Win / Loss ratio\";\n",
       "                var nbb_formatted_code = \"df[\\\"W/L\\\"] = round(df[\\\"W\\\"] / df[\\\"L\\\"], 2)  # Win / Loss ratio\";\n",
       "                var nbb_cells = Jupyter.notebook.get_cells();\n",
       "                for (var i = 0; i < nbb_cells.length; ++i) {\n",
       "                    if (nbb_cells[i].input_prompt_number == nbb_cell_id) {\n",
       "                        if (nbb_cells[i].get_text() == nbb_unformatted_code) {\n",
       "                             nbb_cells[i].set_text(nbb_formatted_code);\n",
       "                        }\n",
       "                        break;\n",
       "                    }\n",
       "                }\n",
       "            }, 500);\n",
       "            "
      ],
      "text/plain": [
       "<IPython.core.display.Javascript object>"
      ]
     },
     "metadata": {},
     "output_type": "display_data"
    }
   ],
   "source": [
    "df[\"W/L\"] = round(df['W']/df['L'], 2)  # Win / Loss ratio"
   ]
  },
  {
   "cell_type": "code",
   "execution_count": 14,
   "metadata": {},
   "outputs": [
    {
     "name": "stdout",
     "output_type": "stream",
     "text": [
      "Highest W/L - Liverpool, 99\n",
      "Lowest W/L - Norwich City, 21\n"
     ]
    },
    {
     "data": {
      "application/javascript": [
       "\n",
       "            setTimeout(function() {\n",
       "                var nbb_cell_id = 14;\n",
       "                var nbb_unformatted_code = \"print(f\\\"Highest W/L - {df.iloc[df['W/L'].argmax(),1]}, {df.iloc[df['W/L'].argmax(),-2]}\\\")\\nprint(f\\\"Lowest W/L - {df.iloc[df['W/L'].argmin(),1]}, {df.iloc[df['W/L'].argmin(),-2]}\\\")\";\n",
       "                var nbb_formatted_code = \"print(\\n    f\\\"Highest W/L - {df.iloc[df['W/L'].argmax(),1]}, {df.iloc[df['W/L'].argmax(),-2]}\\\"\\n)\\nprint(f\\\"Lowest W/L - {df.iloc[df['W/L'].argmin(),1]}, {df.iloc[df['W/L'].argmin(),-2]}\\\")\";\n",
       "                var nbb_cells = Jupyter.notebook.get_cells();\n",
       "                for (var i = 0; i < nbb_cells.length; ++i) {\n",
       "                    if (nbb_cells[i].input_prompt_number == nbb_cell_id) {\n",
       "                        if (nbb_cells[i].get_text() == nbb_unformatted_code) {\n",
       "                             nbb_cells[i].set_text(nbb_formatted_code);\n",
       "                        }\n",
       "                        break;\n",
       "                    }\n",
       "                }\n",
       "            }, 500);\n",
       "            "
      ],
      "text/plain": [
       "<IPython.core.display.Javascript object>"
      ]
     },
     "metadata": {},
     "output_type": "display_data"
    }
   ],
   "source": [
    "print(f\"Highest W/L - {df.iloc[df['W/L'].argmax(),1]}, {df.iloc[df['W/L'].argmax(),-2]}\")\n",
    "print(f\"Lowest W/L - {df.iloc[df['W/L'].argmin(),1]}, {df.iloc[df['W/L'].argmin(),-2]}\")\n"
   ]
  },
  {
   "cell_type": "markdown",
   "metadata": {},
   "source": [
    "#### Highest Win / Loss ratio - <b>Liverpool</b> - (10.67) <br>"
   ]
  },
  {
   "cell_type": "code",
   "execution_count": 15,
   "metadata": {},
   "outputs": [
    {
     "data": {
      "application/javascript": [
       "\n",
       "            setTimeout(function() {\n",
       "                var nbb_cell_id = 15;\n",
       "                var nbb_unformatted_code = \"df['Goal_Ratio'] = round(df['F']/df['A'], 2)\";\n",
       "                var nbb_formatted_code = \"df[\\\"Goal_Ratio\\\"] = round(df[\\\"F\\\"] / df[\\\"A\\\"], 2)\";\n",
       "                var nbb_cells = Jupyter.notebook.get_cells();\n",
       "                for (var i = 0; i < nbb_cells.length; ++i) {\n",
       "                    if (nbb_cells[i].input_prompt_number == nbb_cell_id) {\n",
       "                        if (nbb_cells[i].get_text() == nbb_unformatted_code) {\n",
       "                             nbb_cells[i].set_text(nbb_formatted_code);\n",
       "                        }\n",
       "                        break;\n",
       "                    }\n",
       "                }\n",
       "            }, 500);\n",
       "            "
      ],
      "text/plain": [
       "<IPython.core.display.Javascript object>"
      ]
     },
     "metadata": {},
     "output_type": "display_data"
    }
   ],
   "source": [
    "df['Goal_Ratio'] = round(df['F']/df['A'], 2)"
   ]
  },
  {
   "cell_type": "code",
   "execution_count": 16,
   "metadata": {},
   "outputs": [
    {
     "name": "stdout",
     "output_type": "stream",
     "text": [
      "Highest Goal ratio - Manchester City,2.91\n",
      "Lowest Goal ratio - Norwich City,0.35\n"
     ]
    },
    {
     "data": {
      "application/javascript": [
       "\n",
       "            setTimeout(function() {\n",
       "                var nbb_cell_id = 16;\n",
       "                var nbb_unformatted_code = \"print(f\\\"Highest Goal ratio - {df.iloc[df.Goal_Ratio.argmax(),1]},{df.iloc[df.Goal_Ratio.argmax(),-1]}\\\")\\nprint(f\\\"Lowest Goal ratio - {df.iloc[df.Goal_Ratio.argmin(),1]},{df.iloc[df.Goal_Ratio.argmin(),-1]}\\\")\";\n",
       "                var nbb_formatted_code = \"print(\\n    f\\\"Highest Goal ratio - {df.iloc[df.Goal_Ratio.argmax(),1]},{df.iloc[df.Goal_Ratio.argmax(),-1]}\\\"\\n)\\nprint(\\n    f\\\"Lowest Goal ratio - {df.iloc[df.Goal_Ratio.argmin(),1]},{df.iloc[df.Goal_Ratio.argmin(),-1]}\\\"\\n)\";\n",
       "                var nbb_cells = Jupyter.notebook.get_cells();\n",
       "                for (var i = 0; i < nbb_cells.length; ++i) {\n",
       "                    if (nbb_cells[i].input_prompt_number == nbb_cell_id) {\n",
       "                        if (nbb_cells[i].get_text() == nbb_unformatted_code) {\n",
       "                             nbb_cells[i].set_text(nbb_formatted_code);\n",
       "                        }\n",
       "                        break;\n",
       "                    }\n",
       "                }\n",
       "            }, 500);\n",
       "            "
      ],
      "text/plain": [
       "<IPython.core.display.Javascript object>"
      ]
     },
     "metadata": {},
     "output_type": "display_data"
    }
   ],
   "source": [
    "print(f\"Highest Goal ratio - {df.iloc[df.Goal_Ratio.argmax(),1]},{df.iloc[df.Goal_Ratio.argmax(),-1]}\")\n",
    "print(f\"Lowest Goal ratio - {df.iloc[df.Goal_Ratio.argmin(),1]},{df.iloc[df.Goal_Ratio.argmin(),-1]}\")"
   ]
  },
  {
   "cell_type": "markdown",
   "metadata": {},
   "source": [
    "#### Highest Goal ratio - <b>Manchester City</b> (2.91) <br> "
   ]
  },
  {
   "cell_type": "code",
   "execution_count": 17,
   "metadata": {},
   "outputs": [
    {
     "data": {
      "application/vnd.plotly.v1+json": {
       "config": {
        "plotlyServerURL": "https://plot.ly"
       },
       "data": [
        {
         "fill": "toself",
         "name": "Goals scored",
         "r": [
          85,
          102,
          66,
          69,
          67,
          61,
          51,
          56,
          39,
          43,
          51,
          44,
          38,
          31,
          39,
          49,
          41,
          40,
          36,
          26
         ],
         "subplot": "polar",
         "theta": [
          "Liverpool",
          "Manchester City",
          "Manchester United",
          "Chelsea",
          "Leicester City",
          "Tottenham Hotspur",
          "Wolverhampton Wanderers",
          "Arsenal",
          "Sheffield United",
          "Burnley",
          "Southampton",
          "Everton",
          "Newcastle United",
          "Crystal Palace",
          "Brighton and Hove Albion",
          "West Ham United",
          "Aston Villa",
          "Bournemouth",
          "Watford",
          "Norwich City"
         ],
         "type": "scatterpolar"
        },
        {
         "fill": "toself",
         "name": "Goals conceded",
         "r": [
          33,
          35,
          36,
          54,
          41,
          47,
          40,
          48,
          39,
          50,
          60,
          56,
          58,
          50,
          54,
          62,
          67,
          65,
          64,
          75
         ],
         "subplot": "polar2",
         "theta": [
          "Liverpool",
          "Manchester City",
          "Manchester United",
          "Chelsea",
          "Leicester City",
          "Tottenham Hotspur",
          "Wolverhampton Wanderers",
          "Arsenal",
          "Sheffield United",
          "Burnley",
          "Southampton",
          "Everton",
          "Newcastle United",
          "Crystal Palace",
          "Brighton and Hove Albion",
          "West Ham United",
          "Aston Villa",
          "Bournemouth",
          "Watford",
          "Norwich City"
         ],
         "type": "scatterpolar"
        }
       ],
       "layout": {
        "autosize": true,
        "polar": {
         "angularaxis": {
          "type": "category"
         },
         "domain": {
          "x": [
           0,
           0.45
          ],
          "y": [
           0,
           1
          ]
         },
         "radialaxis": {
          "autorange": false,
          "range": [
           0,
           110
          ],
          "type": "linear",
          "visible": true
         }
        },
        "polar2": {
         "angularaxis": {
          "type": "category"
         },
         "domain": {
          "x": [
           0.55,
           1
          ],
          "y": [
           0,
           1
          ]
         },
         "radialaxis": {
          "autorange": true,
          "range": [
           0,
           75
          ],
          "type": "linear"
         }
        },
        "template": {
         "data": {
          "bar": [
           {
            "error_x": {
             "color": "#2a3f5f"
            },
            "error_y": {
             "color": "#2a3f5f"
            },
            "marker": {
             "line": {
              "color": "#E5ECF6",
              "width": 0.5
             }
            },
            "type": "bar"
           }
          ],
          "barpolar": [
           {
            "marker": {
             "line": {
              "color": "#E5ECF6",
              "width": 0.5
             }
            },
            "type": "barpolar"
           }
          ],
          "carpet": [
           {
            "aaxis": {
             "endlinecolor": "#2a3f5f",
             "gridcolor": "white",
             "linecolor": "white",
             "minorgridcolor": "white",
             "startlinecolor": "#2a3f5f"
            },
            "baxis": {
             "endlinecolor": "#2a3f5f",
             "gridcolor": "white",
             "linecolor": "white",
             "minorgridcolor": "white",
             "startlinecolor": "#2a3f5f"
            },
            "type": "carpet"
           }
          ],
          "choropleth": [
           {
            "colorbar": {
             "outlinewidth": 0,
             "ticks": ""
            },
            "type": "choropleth"
           }
          ],
          "contour": [
           {
            "colorbar": {
             "outlinewidth": 0,
             "ticks": ""
            },
            "colorscale": [
             [
              0,
              "#0d0887"
             ],
             [
              0.1111111111111111,
              "#46039f"
             ],
             [
              0.2222222222222222,
              "#7201a8"
             ],
             [
              0.3333333333333333,
              "#9c179e"
             ],
             [
              0.4444444444444444,
              "#bd3786"
             ],
             [
              0.5555555555555556,
              "#d8576b"
             ],
             [
              0.6666666666666666,
              "#ed7953"
             ],
             [
              0.7777777777777778,
              "#fb9f3a"
             ],
             [
              0.8888888888888888,
              "#fdca26"
             ],
             [
              1,
              "#f0f921"
             ]
            ],
            "type": "contour"
           }
          ],
          "contourcarpet": [
           {
            "colorbar": {
             "outlinewidth": 0,
             "ticks": ""
            },
            "type": "contourcarpet"
           }
          ],
          "heatmap": [
           {
            "colorbar": {
             "outlinewidth": 0,
             "ticks": ""
            },
            "colorscale": [
             [
              0,
              "#0d0887"
             ],
             [
              0.1111111111111111,
              "#46039f"
             ],
             [
              0.2222222222222222,
              "#7201a8"
             ],
             [
              0.3333333333333333,
              "#9c179e"
             ],
             [
              0.4444444444444444,
              "#bd3786"
             ],
             [
              0.5555555555555556,
              "#d8576b"
             ],
             [
              0.6666666666666666,
              "#ed7953"
             ],
             [
              0.7777777777777778,
              "#fb9f3a"
             ],
             [
              0.8888888888888888,
              "#fdca26"
             ],
             [
              1,
              "#f0f921"
             ]
            ],
            "type": "heatmap"
           }
          ],
          "heatmapgl": [
           {
            "colorbar": {
             "outlinewidth": 0,
             "ticks": ""
            },
            "colorscale": [
             [
              0,
              "#0d0887"
             ],
             [
              0.1111111111111111,
              "#46039f"
             ],
             [
              0.2222222222222222,
              "#7201a8"
             ],
             [
              0.3333333333333333,
              "#9c179e"
             ],
             [
              0.4444444444444444,
              "#bd3786"
             ],
             [
              0.5555555555555556,
              "#d8576b"
             ],
             [
              0.6666666666666666,
              "#ed7953"
             ],
             [
              0.7777777777777778,
              "#fb9f3a"
             ],
             [
              0.8888888888888888,
              "#fdca26"
             ],
             [
              1,
              "#f0f921"
             ]
            ],
            "type": "heatmapgl"
           }
          ],
          "histogram": [
           {
            "marker": {
             "colorbar": {
              "outlinewidth": 0,
              "ticks": ""
             }
            },
            "type": "histogram"
           }
          ],
          "histogram2d": [
           {
            "colorbar": {
             "outlinewidth": 0,
             "ticks": ""
            },
            "colorscale": [
             [
              0,
              "#0d0887"
             ],
             [
              0.1111111111111111,
              "#46039f"
             ],
             [
              0.2222222222222222,
              "#7201a8"
             ],
             [
              0.3333333333333333,
              "#9c179e"
             ],
             [
              0.4444444444444444,
              "#bd3786"
             ],
             [
              0.5555555555555556,
              "#d8576b"
             ],
             [
              0.6666666666666666,
              "#ed7953"
             ],
             [
              0.7777777777777778,
              "#fb9f3a"
             ],
             [
              0.8888888888888888,
              "#fdca26"
             ],
             [
              1,
              "#f0f921"
             ]
            ],
            "type": "histogram2d"
           }
          ],
          "histogram2dcontour": [
           {
            "colorbar": {
             "outlinewidth": 0,
             "ticks": ""
            },
            "colorscale": [
             [
              0,
              "#0d0887"
             ],
             [
              0.1111111111111111,
              "#46039f"
             ],
             [
              0.2222222222222222,
              "#7201a8"
             ],
             [
              0.3333333333333333,
              "#9c179e"
             ],
             [
              0.4444444444444444,
              "#bd3786"
             ],
             [
              0.5555555555555556,
              "#d8576b"
             ],
             [
              0.6666666666666666,
              "#ed7953"
             ],
             [
              0.7777777777777778,
              "#fb9f3a"
             ],
             [
              0.8888888888888888,
              "#fdca26"
             ],
             [
              1,
              "#f0f921"
             ]
            ],
            "type": "histogram2dcontour"
           }
          ],
          "mesh3d": [
           {
            "colorbar": {
             "outlinewidth": 0,
             "ticks": ""
            },
            "type": "mesh3d"
           }
          ],
          "parcoords": [
           {
            "line": {
             "colorbar": {
              "outlinewidth": 0,
              "ticks": ""
             }
            },
            "type": "parcoords"
           }
          ],
          "pie": [
           {
            "automargin": true,
            "type": "pie"
           }
          ],
          "scatter": [
           {
            "marker": {
             "colorbar": {
              "outlinewidth": 0,
              "ticks": ""
             }
            },
            "type": "scatter"
           }
          ],
          "scatter3d": [
           {
            "line": {
             "colorbar": {
              "outlinewidth": 0,
              "ticks": ""
             }
            },
            "marker": {
             "colorbar": {
              "outlinewidth": 0,
              "ticks": ""
             }
            },
            "type": "scatter3d"
           }
          ],
          "scattercarpet": [
           {
            "marker": {
             "colorbar": {
              "outlinewidth": 0,
              "ticks": ""
             }
            },
            "type": "scattercarpet"
           }
          ],
          "scattergeo": [
           {
            "marker": {
             "colorbar": {
              "outlinewidth": 0,
              "ticks": ""
             }
            },
            "type": "scattergeo"
           }
          ],
          "scattergl": [
           {
            "marker": {
             "colorbar": {
              "outlinewidth": 0,
              "ticks": ""
             }
            },
            "type": "scattergl"
           }
          ],
          "scattermapbox": [
           {
            "marker": {
             "colorbar": {
              "outlinewidth": 0,
              "ticks": ""
             }
            },
            "type": "scattermapbox"
           }
          ],
          "scatterpolar": [
           {
            "marker": {
             "colorbar": {
              "outlinewidth": 0,
              "ticks": ""
             }
            },
            "type": "scatterpolar"
           }
          ],
          "scatterpolargl": [
           {
            "marker": {
             "colorbar": {
              "outlinewidth": 0,
              "ticks": ""
             }
            },
            "type": "scatterpolargl"
           }
          ],
          "scatterternary": [
           {
            "marker": {
             "colorbar": {
              "outlinewidth": 0,
              "ticks": ""
             }
            },
            "type": "scatterternary"
           }
          ],
          "surface": [
           {
            "colorbar": {
             "outlinewidth": 0,
             "ticks": ""
            },
            "colorscale": [
             [
              0,
              "#0d0887"
             ],
             [
              0.1111111111111111,
              "#46039f"
             ],
             [
              0.2222222222222222,
              "#7201a8"
             ],
             [
              0.3333333333333333,
              "#9c179e"
             ],
             [
              0.4444444444444444,
              "#bd3786"
             ],
             [
              0.5555555555555556,
              "#d8576b"
             ],
             [
              0.6666666666666666,
              "#ed7953"
             ],
             [
              0.7777777777777778,
              "#fb9f3a"
             ],
             [
              0.8888888888888888,
              "#fdca26"
             ],
             [
              1,
              "#f0f921"
             ]
            ],
            "type": "surface"
           }
          ],
          "table": [
           {
            "cells": {
             "fill": {
              "color": "#EBF0F8"
             },
             "line": {
              "color": "white"
             }
            },
            "header": {
             "fill": {
              "color": "#C8D4E3"
             },
             "line": {
              "color": "white"
             }
            },
            "type": "table"
           }
          ]
         },
         "layout": {
          "annotationdefaults": {
           "arrowcolor": "#2a3f5f",
           "arrowhead": 0,
           "arrowwidth": 1
          },
          "autotypenumbers": "strict",
          "coloraxis": {
           "colorbar": {
            "outlinewidth": 0,
            "ticks": ""
           }
          },
          "colorscale": {
           "diverging": [
            [
             0,
             "#8e0152"
            ],
            [
             0.1,
             "#c51b7d"
            ],
            [
             0.2,
             "#de77ae"
            ],
            [
             0.3,
             "#f1b6da"
            ],
            [
             0.4,
             "#fde0ef"
            ],
            [
             0.5,
             "#f7f7f7"
            ],
            [
             0.6,
             "#e6f5d0"
            ],
            [
             0.7,
             "#b8e186"
            ],
            [
             0.8,
             "#7fbc41"
            ],
            [
             0.9,
             "#4d9221"
            ],
            [
             1,
             "#276419"
            ]
           ],
           "sequential": [
            [
             0,
             "#0d0887"
            ],
            [
             0.1111111111111111,
             "#46039f"
            ],
            [
             0.2222222222222222,
             "#7201a8"
            ],
            [
             0.3333333333333333,
             "#9c179e"
            ],
            [
             0.4444444444444444,
             "#bd3786"
            ],
            [
             0.5555555555555556,
             "#d8576b"
            ],
            [
             0.6666666666666666,
             "#ed7953"
            ],
            [
             0.7777777777777778,
             "#fb9f3a"
            ],
            [
             0.8888888888888888,
             "#fdca26"
            ],
            [
             1,
             "#f0f921"
            ]
           ],
           "sequentialminus": [
            [
             0,
             "#0d0887"
            ],
            [
             0.1111111111111111,
             "#46039f"
            ],
            [
             0.2222222222222222,
             "#7201a8"
            ],
            [
             0.3333333333333333,
             "#9c179e"
            ],
            [
             0.4444444444444444,
             "#bd3786"
            ],
            [
             0.5555555555555556,
             "#d8576b"
            ],
            [
             0.6666666666666666,
             "#ed7953"
            ],
            [
             0.7777777777777778,
             "#fb9f3a"
            ],
            [
             0.8888888888888888,
             "#fdca26"
            ],
            [
             1,
             "#f0f921"
            ]
           ]
          },
          "colorway": [
           "#636efa",
           "#EF553B",
           "#00cc96",
           "#ab63fa",
           "#FFA15A",
           "#19d3f3",
           "#FF6692",
           "#B6E880",
           "#FF97FF",
           "#FECB52"
          ],
          "font": {
           "color": "#2a3f5f"
          },
          "geo": {
           "bgcolor": "white",
           "lakecolor": "white",
           "landcolor": "#E5ECF6",
           "showlakes": true,
           "showland": true,
           "subunitcolor": "white"
          },
          "hoverlabel": {
           "align": "left"
          },
          "hovermode": "closest",
          "mapbox": {
           "style": "light"
          },
          "paper_bgcolor": "white",
          "plot_bgcolor": "#E5ECF6",
          "polar": {
           "angularaxis": {
            "gridcolor": "white",
            "linecolor": "white",
            "ticks": ""
           },
           "bgcolor": "#E5ECF6",
           "radialaxis": {
            "gridcolor": "white",
            "linecolor": "white",
            "ticks": ""
           }
          },
          "scene": {
           "xaxis": {
            "backgroundcolor": "#E5ECF6",
            "gridcolor": "white",
            "gridwidth": 2,
            "linecolor": "white",
            "showbackground": true,
            "ticks": "",
            "zerolinecolor": "white"
           },
           "yaxis": {
            "backgroundcolor": "#E5ECF6",
            "gridcolor": "white",
            "gridwidth": 2,
            "linecolor": "white",
            "showbackground": true,
            "ticks": "",
            "zerolinecolor": "white"
           },
           "zaxis": {
            "backgroundcolor": "#E5ECF6",
            "gridcolor": "white",
            "gridwidth": 2,
            "linecolor": "white",
            "showbackground": true,
            "ticks": "",
            "zerolinecolor": "white"
           }
          },
          "shapedefaults": {
           "line": {
            "color": "#2a3f5f"
           }
          },
          "ternary": {
           "aaxis": {
            "gridcolor": "white",
            "linecolor": "white",
            "ticks": ""
           },
           "baxis": {
            "gridcolor": "white",
            "linecolor": "white",
            "ticks": ""
           },
           "bgcolor": "#E5ECF6",
           "caxis": {
            "gridcolor": "white",
            "linecolor": "white",
            "ticks": ""
           }
          },
          "title": {
           "x": 0.05
          },
          "xaxis": {
           "automargin": true,
           "gridcolor": "white",
           "linecolor": "white",
           "ticks": "",
           "title": {
            "standoff": 15
           },
           "zerolinecolor": "white",
           "zerolinewidth": 2
          },
          "yaxis": {
           "automargin": true,
           "gridcolor": "white",
           "linecolor": "white",
           "ticks": "",
           "title": {
            "standoff": 15
           },
           "zerolinecolor": "white",
           "zerolinewidth": 2
          }
         }
        },
        "title": {
         "text": "Premier League 2019/2020"
        }
       }
      },
      "image/png": "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",
      "text/html": [
       "<div>                            <div id=\"ea6ef51b-81d1-458a-a185-d6473e210288\" class=\"plotly-graph-div\" style=\"height:525px; width:100%;\"></div>            <script type=\"text/javascript\">                require([\"plotly\"], function(Plotly) {                    window.PLOTLYENV=window.PLOTLYENV || {};                                    if (document.getElementById(\"ea6ef51b-81d1-458a-a185-d6473e210288\")) {                    Plotly.newPlot(                        \"ea6ef51b-81d1-458a-a185-d6473e210288\",                        [{\"fill\": \"toself\", \"name\": \"Goals scored\", \"r\": [85, 102, 66, 69, 67, 61, 51, 56, 39, 43, 51, 44, 38, 31, 39, 49, 41, 40, 36, 26], \"subplot\": \"polar\", \"theta\": [\"Liverpool\", \"Manchester City\", \"Manchester United\", \"Chelsea\", \"Leicester City\", \"Tottenham Hotspur\", \"Wolverhampton Wanderers\", \"Arsenal\", \"Sheffield United\", \"Burnley\", \"Southampton\", \"Everton\", \"Newcastle United\", \"Crystal Palace\", \"Brighton and Hove Albion\", \"West Ham United\", \"Aston Villa\", \"Bournemouth\", \"Watford\", \"Norwich City\"], \"type\": \"scatterpolar\"}, {\"fill\": \"toself\", \"name\": \"Goals conceded\", \"r\": [33, 35, 36, 54, 41, 47, 40, 48, 39, 50, 60, 56, 58, 50, 54, 62, 67, 65, 64, 75], \"subplot\": \"polar2\", \"theta\": [\"Liverpool\", \"Manchester City\", \"Manchester United\", \"Chelsea\", \"Leicester City\", \"Tottenham Hotspur\", \"Wolverhampton Wanderers\", \"Arsenal\", \"Sheffield United\", \"Burnley\", \"Southampton\", \"Everton\", \"Newcastle United\", \"Crystal Palace\", \"Brighton and Hove Albion\", \"West Ham United\", \"Aston Villa\", \"Bournemouth\", \"Watford\", \"Norwich City\"], \"type\": \"scatterpolar\"}],                        {\"polar\": {\"domain\": {\"x\": [0.0, 0.45], \"y\": [0.0, 1.0]}, \"radialaxis\": {\"range\": [0, 110], \"visible\": true}}, \"polar2\": {\"domain\": {\"x\": [0.55, 1.0], \"y\": [0.0, 1.0]}}, \"template\": {\"data\": {\"bar\": [{\"error_x\": {\"color\": \"#2a3f5f\"}, \"error_y\": {\"color\": \"#2a3f5f\"}, \"marker\": {\"line\": {\"color\": \"#E5ECF6\", \"width\": 0.5}}, \"type\": \"bar\"}], \"barpolar\": [{\"marker\": {\"line\": {\"color\": \"#E5ECF6\", \"width\": 0.5}}, \"type\": \"barpolar\"}], \"carpet\": [{\"aaxis\": {\"endlinecolor\": \"#2a3f5f\", \"gridcolor\": \"white\", \"linecolor\": \"white\", \"minorgridcolor\": \"white\", \"startlinecolor\": \"#2a3f5f\"}, \"baxis\": {\"endlinecolor\": \"#2a3f5f\", \"gridcolor\": \"white\", \"linecolor\": \"white\", \"minorgridcolor\": \"white\", \"startlinecolor\": \"#2a3f5f\"}, \"type\": \"carpet\"}], \"choropleth\": [{\"colorbar\": {\"outlinewidth\": 0, \"ticks\": \"\"}, \"type\": \"choropleth\"}], \"contour\": [{\"colorbar\": {\"outlinewidth\": 0, \"ticks\": \"\"}, \"colorscale\": [[0.0, \"#0d0887\"], [0.1111111111111111, \"#46039f\"], [0.2222222222222222, \"#7201a8\"], [0.3333333333333333, \"#9c179e\"], [0.4444444444444444, \"#bd3786\"], [0.5555555555555556, \"#d8576b\"], [0.6666666666666666, \"#ed7953\"], [0.7777777777777778, \"#fb9f3a\"], [0.8888888888888888, \"#fdca26\"], [1.0, \"#f0f921\"]], \"type\": \"contour\"}], \"contourcarpet\": [{\"colorbar\": {\"outlinewidth\": 0, \"ticks\": \"\"}, \"type\": \"contourcarpet\"}], \"heatmap\": [{\"colorbar\": {\"outlinewidth\": 0, \"ticks\": \"\"}, \"colorscale\": [[0.0, \"#0d0887\"], [0.1111111111111111, \"#46039f\"], [0.2222222222222222, \"#7201a8\"], [0.3333333333333333, \"#9c179e\"], [0.4444444444444444, \"#bd3786\"], [0.5555555555555556, \"#d8576b\"], [0.6666666666666666, \"#ed7953\"], [0.7777777777777778, \"#fb9f3a\"], [0.8888888888888888, \"#fdca26\"], [1.0, \"#f0f921\"]], \"type\": \"heatmap\"}], \"heatmapgl\": [{\"colorbar\": {\"outlinewidth\": 0, \"ticks\": \"\"}, \"colorscale\": [[0.0, \"#0d0887\"], [0.1111111111111111, \"#46039f\"], [0.2222222222222222, \"#7201a8\"], [0.3333333333333333, \"#9c179e\"], [0.4444444444444444, \"#bd3786\"], [0.5555555555555556, \"#d8576b\"], [0.6666666666666666, \"#ed7953\"], [0.7777777777777778, \"#fb9f3a\"], [0.8888888888888888, \"#fdca26\"], [1.0, \"#f0f921\"]], \"type\": \"heatmapgl\"}], \"histogram\": [{\"marker\": {\"colorbar\": {\"outlinewidth\": 0, \"ticks\": \"\"}}, \"type\": \"histogram\"}], \"histogram2d\": [{\"colorbar\": {\"outlinewidth\": 0, \"ticks\": \"\"}, \"colorscale\": [[0.0, \"#0d0887\"], [0.1111111111111111, \"#46039f\"], [0.2222222222222222, \"#7201a8\"], [0.3333333333333333, \"#9c179e\"], [0.4444444444444444, \"#bd3786\"], [0.5555555555555556, \"#d8576b\"], [0.6666666666666666, \"#ed7953\"], [0.7777777777777778, \"#fb9f3a\"], [0.8888888888888888, \"#fdca26\"], [1.0, \"#f0f921\"]], \"type\": \"histogram2d\"}], \"histogram2dcontour\": [{\"colorbar\": {\"outlinewidth\": 0, \"ticks\": \"\"}, \"colorscale\": [[0.0, \"#0d0887\"], [0.1111111111111111, \"#46039f\"], [0.2222222222222222, \"#7201a8\"], [0.3333333333333333, \"#9c179e\"], [0.4444444444444444, \"#bd3786\"], [0.5555555555555556, \"#d8576b\"], [0.6666666666666666, \"#ed7953\"], [0.7777777777777778, \"#fb9f3a\"], [0.8888888888888888, \"#fdca26\"], [1.0, \"#f0f921\"]], \"type\": \"histogram2dcontour\"}], \"mesh3d\": [{\"colorbar\": {\"outlinewidth\": 0, \"ticks\": \"\"}, \"type\": \"mesh3d\"}], \"parcoords\": [{\"line\": {\"colorbar\": {\"outlinewidth\": 0, \"ticks\": \"\"}}, \"type\": \"parcoords\"}], \"pie\": [{\"automargin\": true, \"type\": \"pie\"}], \"scatter\": [{\"marker\": {\"colorbar\": {\"outlinewidth\": 0, \"ticks\": \"\"}}, \"type\": \"scatter\"}], \"scatter3d\": [{\"line\": {\"colorbar\": {\"outlinewidth\": 0, \"ticks\": \"\"}}, \"marker\": {\"colorbar\": {\"outlinewidth\": 0, \"ticks\": \"\"}}, \"type\": \"scatter3d\"}], \"scattercarpet\": [{\"marker\": {\"colorbar\": {\"outlinewidth\": 0, \"ticks\": \"\"}}, \"type\": \"scattercarpet\"}], \"scattergeo\": [{\"marker\": {\"colorbar\": {\"outlinewidth\": 0, \"ticks\": \"\"}}, \"type\": \"scattergeo\"}], \"scattergl\": [{\"marker\": {\"colorbar\": {\"outlinewidth\": 0, \"ticks\": \"\"}}, \"type\": \"scattergl\"}], \"scattermapbox\": [{\"marker\": {\"colorbar\": {\"outlinewidth\": 0, \"ticks\": \"\"}}, \"type\": \"scattermapbox\"}], \"scatterpolar\": [{\"marker\": {\"colorbar\": {\"outlinewidth\": 0, \"ticks\": \"\"}}, \"type\": \"scatterpolar\"}], \"scatterpolargl\": [{\"marker\": {\"colorbar\": {\"outlinewidth\": 0, \"ticks\": \"\"}}, \"type\": \"scatterpolargl\"}], \"scatterternary\": [{\"marker\": {\"colorbar\": {\"outlinewidth\": 0, \"ticks\": \"\"}}, \"type\": \"scatterternary\"}], \"surface\": [{\"colorbar\": {\"outlinewidth\": 0, \"ticks\": \"\"}, \"colorscale\": [[0.0, \"#0d0887\"], [0.1111111111111111, \"#46039f\"], [0.2222222222222222, \"#7201a8\"], [0.3333333333333333, \"#9c179e\"], [0.4444444444444444, \"#bd3786\"], [0.5555555555555556, \"#d8576b\"], [0.6666666666666666, \"#ed7953\"], [0.7777777777777778, \"#fb9f3a\"], [0.8888888888888888, \"#fdca26\"], [1.0, \"#f0f921\"]], \"type\": \"surface\"}], \"table\": [{\"cells\": {\"fill\": {\"color\": \"#EBF0F8\"}, \"line\": {\"color\": \"white\"}}, \"header\": {\"fill\": {\"color\": \"#C8D4E3\"}, \"line\": {\"color\": \"white\"}}, \"type\": \"table\"}]}, \"layout\": {\"annotationdefaults\": {\"arrowcolor\": \"#2a3f5f\", \"arrowhead\": 0, \"arrowwidth\": 1}, \"autotypenumbers\": \"strict\", \"coloraxis\": {\"colorbar\": {\"outlinewidth\": 0, \"ticks\": \"\"}}, \"colorscale\": {\"diverging\": [[0, \"#8e0152\"], [0.1, \"#c51b7d\"], [0.2, \"#de77ae\"], [0.3, \"#f1b6da\"], [0.4, \"#fde0ef\"], [0.5, \"#f7f7f7\"], [0.6, \"#e6f5d0\"], [0.7, \"#b8e186\"], [0.8, \"#7fbc41\"], [0.9, \"#4d9221\"], [1, \"#276419\"]], \"sequential\": [[0.0, \"#0d0887\"], [0.1111111111111111, \"#46039f\"], [0.2222222222222222, \"#7201a8\"], [0.3333333333333333, \"#9c179e\"], [0.4444444444444444, \"#bd3786\"], [0.5555555555555556, \"#d8576b\"], [0.6666666666666666, \"#ed7953\"], [0.7777777777777778, \"#fb9f3a\"], [0.8888888888888888, \"#fdca26\"], [1.0, \"#f0f921\"]], \"sequentialminus\": [[0.0, \"#0d0887\"], [0.1111111111111111, \"#46039f\"], [0.2222222222222222, \"#7201a8\"], [0.3333333333333333, \"#9c179e\"], [0.4444444444444444, \"#bd3786\"], [0.5555555555555556, \"#d8576b\"], [0.6666666666666666, \"#ed7953\"], [0.7777777777777778, \"#fb9f3a\"], [0.8888888888888888, \"#fdca26\"], [1.0, \"#f0f921\"]]}, \"colorway\": [\"#636efa\", \"#EF553B\", \"#00cc96\", \"#ab63fa\", \"#FFA15A\", \"#19d3f3\", \"#FF6692\", \"#B6E880\", \"#FF97FF\", \"#FECB52\"], \"font\": {\"color\": \"#2a3f5f\"}, \"geo\": {\"bgcolor\": \"white\", \"lakecolor\": \"white\", \"landcolor\": \"#E5ECF6\", \"showlakes\": true, \"showland\": true, \"subunitcolor\": \"white\"}, \"hoverlabel\": {\"align\": \"left\"}, \"hovermode\": \"closest\", \"mapbox\": {\"style\": \"light\"}, \"paper_bgcolor\": \"white\", \"plot_bgcolor\": \"#E5ECF6\", \"polar\": {\"angularaxis\": {\"gridcolor\": \"white\", \"linecolor\": \"white\", \"ticks\": \"\"}, \"bgcolor\": \"#E5ECF6\", \"radialaxis\": {\"gridcolor\": \"white\", \"linecolor\": \"white\", \"ticks\": \"\"}}, \"scene\": {\"xaxis\": {\"backgroundcolor\": \"#E5ECF6\", \"gridcolor\": \"white\", \"gridwidth\": 2, \"linecolor\": \"white\", \"showbackground\": true, \"ticks\": \"\", \"zerolinecolor\": \"white\"}, \"yaxis\": {\"backgroundcolor\": \"#E5ECF6\", \"gridcolor\": \"white\", \"gridwidth\": 2, \"linecolor\": \"white\", \"showbackground\": true, \"ticks\": \"\", \"zerolinecolor\": \"white\"}, \"zaxis\": {\"backgroundcolor\": \"#E5ECF6\", \"gridcolor\": \"white\", \"gridwidth\": 2, \"linecolor\": \"white\", \"showbackground\": true, \"ticks\": \"\", \"zerolinecolor\": \"white\"}}, \"shapedefaults\": {\"line\": {\"color\": \"#2a3f5f\"}}, \"ternary\": {\"aaxis\": {\"gridcolor\": \"white\", \"linecolor\": \"white\", \"ticks\": \"\"}, \"baxis\": {\"gridcolor\": \"white\", \"linecolor\": \"white\", \"ticks\": \"\"}, \"bgcolor\": \"#E5ECF6\", \"caxis\": {\"gridcolor\": \"white\", \"linecolor\": \"white\", \"ticks\": \"\"}}, \"title\": {\"x\": 0.05}, \"xaxis\": {\"automargin\": true, \"gridcolor\": \"white\", \"linecolor\": \"white\", \"ticks\": \"\", \"title\": {\"standoff\": 15}, \"zerolinecolor\": \"white\", \"zerolinewidth\": 2}, \"yaxis\": {\"automargin\": true, \"gridcolor\": \"white\", \"linecolor\": \"white\", \"ticks\": \"\", \"title\": {\"standoff\": 15}, \"zerolinecolor\": \"white\", \"zerolinewidth\": 2}}}, \"title\": {\"text\": \"Premier League 2019/2020\"}},                        {\"responsive\": true}                    ).then(function(){\n",
       "                            \n",
       "var gd = document.getElementById('ea6ef51b-81d1-458a-a185-d6473e210288');\n",
       "var x = new MutationObserver(function (mutations, observer) {{\n",
       "        var display = window.getComputedStyle(gd).display;\n",
       "        if (!display || display === 'none') {{\n",
       "            console.log([gd, 'removed!']);\n",
       "            Plotly.purge(gd);\n",
       "            observer.disconnect();\n",
       "        }}\n",
       "}});\n",
       "\n",
       "// Listen for the removal of the full notebook cells\n",
       "var notebookContainer = gd.closest('#notebook-container');\n",
       "if (notebookContainer) {{\n",
       "    x.observe(notebookContainer, {childList: true});\n",
       "}}\n",
       "\n",
       "// Listen for the clearing of the current output cell\n",
       "var outputEl = gd.closest('.output');\n",
       "if (outputEl) {{\n",
       "    x.observe(outputEl, {childList: true});\n",
       "}}\n",
       "\n",
       "                        })                };                });            </script>        </div>"
      ]
     },
     "metadata": {},
     "output_type": "display_data"
    },
    {
     "data": {
      "application/javascript": [
       "\n",
       "            setTimeout(function() {\n",
       "                var nbb_cell_id = 17;\n",
       "                var nbb_unformatted_code = \"# trace0 = go.Scatterpolar(\\n#     r=df.F.values,\\n#     theta=df.Team_Name,\\n#     fill=\\\"toself\\\",\\n#     name=\\\"Goals Scored\\\",\\n# )\\nfig = make_subplots(rows=1, cols=2, specs=[[{'type': 'polar'}]*2]*1)\\n\\nfig.add_trace(go.Scatterpolar(\\n      name = \\\"Goals scored\\\",\\n      r = df.F.tolist(),\\n      theta = df.Team_Name,\\n    ), 1, 1)\\n\\nfig.add_trace(go.Scatterpolar(\\n      name = \\\"Goals conceded\\\",\\n      r = df.A,\\n      theta = df.Team_Name,\\n    ), 1, 2)\\n\\nfig.update_traces(fill='toself')\\n\\nfig.update_layout(polar=dict(radialaxis=dict(visible=True, range=[0, 110])), title= \\\"Premier League 2019/2020\\\")\\n\\nfig.show()\";\n",
       "                var nbb_formatted_code = \"# trace0 = go.Scatterpolar(\\n#     r=df.F.values,\\n#     theta=df.Team_Name,\\n#     fill=\\\"toself\\\",\\n#     name=\\\"Goals Scored\\\",\\n# )\\nfig = make_subplots(rows=1, cols=2, specs=[[{\\\"type\\\": \\\"polar\\\"}] * 2] * 1)\\n\\nfig.add_trace(\\n    go.Scatterpolar(\\n        name=\\\"Goals scored\\\",\\n        r=df.F.tolist(),\\n        theta=df.Team_Name,\\n    ),\\n    1,\\n    1,\\n)\\n\\nfig.add_trace(\\n    go.Scatterpolar(\\n        name=\\\"Goals conceded\\\",\\n        r=df.A,\\n        theta=df.Team_Name,\\n    ),\\n    1,\\n    2,\\n)\\n\\nfig.update_traces(fill=\\\"toself\\\")\\n\\nfig.update_layout(\\n    polar=dict(radialaxis=dict(visible=True, range=[0, 110])),\\n    title=\\\"Premier League 2019/2020\\\",\\n)\\n\\nfig.show()\";\n",
       "                var nbb_cells = Jupyter.notebook.get_cells();\n",
       "                for (var i = 0; i < nbb_cells.length; ++i) {\n",
       "                    if (nbb_cells[i].input_prompt_number == nbb_cell_id) {\n",
       "                        if (nbb_cells[i].get_text() == nbb_unformatted_code) {\n",
       "                             nbb_cells[i].set_text(nbb_formatted_code);\n",
       "                        }\n",
       "                        break;\n",
       "                    }\n",
       "                }\n",
       "            }, 500);\n",
       "            "
      ],
      "text/plain": [
       "<IPython.core.display.Javascript object>"
      ]
     },
     "metadata": {},
     "output_type": "display_data"
    }
   ],
   "source": [
    "# trace0 = go.Scatterpolar(\n",
    "#     r=df.F.values,\n",
    "#     theta=df.Team_Name,\n",
    "#     fill=\"toself\",\n",
    "#     name=\"Goals Scored\",\n",
    "# )\n",
    "fig = make_subplots(rows=1, cols=2, specs=[[{'type': 'polar'}]*2]*1)\n",
    "\n",
    "fig.add_trace(go.Scatterpolar(\n",
    "      name = \"Goals scored\",\n",
    "      r = df.F.tolist(),\n",
    "      theta = df.Team_Name,\n",
    "    ), 1, 1)\n",
    "\n",
    "fig.add_trace(go.Scatterpolar(\n",
    "      name = \"Goals conceded\",\n",
    "      r = df.A,\n",
    "      theta = df.Team_Name,\n",
    "    ), 1, 2)\n",
    "\n",
    "fig.update_traces(fill='toself')\n",
    "\n",
    "fig.update_layout(polar=dict(radialaxis=dict(visible=True, range=[0, 110])), title= \"Premier League 2019/2020\")\n",
    "\n",
    "fig.show()"
   ]
  },
  {
   "cell_type": "markdown",
   "metadata": {},
   "source": [
    "#### The above polar graph shows how each team has scored goals and conceded goals<br>"
   ]
  },
  {
   "cell_type": "code",
   "execution_count": 18,
   "metadata": {},
   "outputs": [
    {
     "data": {
      "application/vnd.plotly.v1+json": {
       "config": {
        "plotlyServerURL": "https://plot.ly"
       },
       "data": [
        {
         "marker": {
          "color": "crimson"
         },
         "name": "GD",
         "type": "bar",
         "x": [
          "Liverpool",
          "Manchester City",
          "Manchester United",
          "Chelsea",
          "Leicester City",
          "Tottenham Hotspur",
          "Wolverhampton Wanderers",
          "Arsenal",
          "Sheffield United",
          "Burnley",
          "Southampton",
          "Everton",
          "Newcastle United",
          "Crystal Palace",
          "Brighton and Hove Albion",
          "West Ham United",
          "Aston Villa",
          "Bournemouth",
          "Watford",
          "Norwich City"
         ],
         "y": [
          52,
          67,
          30,
          15,
          26,
          14,
          11,
          8,
          0,
          -7,
          -9,
          -12,
          -20,
          -19,
          -15,
          -13,
          -26,
          -25,
          -28,
          -49
         ]
        },
        {
         "base": 0,
         "marker": {
          "color": "lightslategrey"
         },
         "name": "Pts",
         "type": "bar",
         "x": [
          "Liverpool",
          "Manchester City",
          "Manchester United",
          "Chelsea",
          "Leicester City",
          "Tottenham Hotspur",
          "Wolverhampton Wanderers",
          "Arsenal",
          "Sheffield United",
          "Burnley",
          "Southampton",
          "Everton",
          "Newcastle United",
          "Crystal Palace",
          "Brighton and Hove Albion",
          "West Ham United",
          "Aston Villa",
          "Bournemouth",
          "Watford",
          "Norwich City"
         ],
         "y": [
          99,
          81,
          66,
          66,
          62,
          59,
          59,
          56,
          54,
          54,
          52,
          49,
          44,
          43,
          41,
          39,
          35,
          34,
          34,
          21
         ]
        }
       ],
       "layout": {
        "autosize": true,
        "template": {
         "data": {
          "bar": [
           {
            "error_x": {
             "color": "#2a3f5f"
            },
            "error_y": {
             "color": "#2a3f5f"
            },
            "marker": {
             "line": {
              "color": "#E5ECF6",
              "width": 0.5
             }
            },
            "type": "bar"
           }
          ],
          "barpolar": [
           {
            "marker": {
             "line": {
              "color": "#E5ECF6",
              "width": 0.5
             }
            },
            "type": "barpolar"
           }
          ],
          "carpet": [
           {
            "aaxis": {
             "endlinecolor": "#2a3f5f",
             "gridcolor": "white",
             "linecolor": "white",
             "minorgridcolor": "white",
             "startlinecolor": "#2a3f5f"
            },
            "baxis": {
             "endlinecolor": "#2a3f5f",
             "gridcolor": "white",
             "linecolor": "white",
             "minorgridcolor": "white",
             "startlinecolor": "#2a3f5f"
            },
            "type": "carpet"
           }
          ],
          "choropleth": [
           {
            "colorbar": {
             "outlinewidth": 0,
             "ticks": ""
            },
            "type": "choropleth"
           }
          ],
          "contour": [
           {
            "colorbar": {
             "outlinewidth": 0,
             "ticks": ""
            },
            "colorscale": [
             [
              0,
              "#0d0887"
             ],
             [
              0.1111111111111111,
              "#46039f"
             ],
             [
              0.2222222222222222,
              "#7201a8"
             ],
             [
              0.3333333333333333,
              "#9c179e"
             ],
             [
              0.4444444444444444,
              "#bd3786"
             ],
             [
              0.5555555555555556,
              "#d8576b"
             ],
             [
              0.6666666666666666,
              "#ed7953"
             ],
             [
              0.7777777777777778,
              "#fb9f3a"
             ],
             [
              0.8888888888888888,
              "#fdca26"
             ],
             [
              1,
              "#f0f921"
             ]
            ],
            "type": "contour"
           }
          ],
          "contourcarpet": [
           {
            "colorbar": {
             "outlinewidth": 0,
             "ticks": ""
            },
            "type": "contourcarpet"
           }
          ],
          "heatmap": [
           {
            "colorbar": {
             "outlinewidth": 0,
             "ticks": ""
            },
            "colorscale": [
             [
              0,
              "#0d0887"
             ],
             [
              0.1111111111111111,
              "#46039f"
             ],
             [
              0.2222222222222222,
              "#7201a8"
             ],
             [
              0.3333333333333333,
              "#9c179e"
             ],
             [
              0.4444444444444444,
              "#bd3786"
             ],
             [
              0.5555555555555556,
              "#d8576b"
             ],
             [
              0.6666666666666666,
              "#ed7953"
             ],
             [
              0.7777777777777778,
              "#fb9f3a"
             ],
             [
              0.8888888888888888,
              "#fdca26"
             ],
             [
              1,
              "#f0f921"
             ]
            ],
            "type": "heatmap"
           }
          ],
          "heatmapgl": [
           {
            "colorbar": {
             "outlinewidth": 0,
             "ticks": ""
            },
            "colorscale": [
             [
              0,
              "#0d0887"
             ],
             [
              0.1111111111111111,
              "#46039f"
             ],
             [
              0.2222222222222222,
              "#7201a8"
             ],
             [
              0.3333333333333333,
              "#9c179e"
             ],
             [
              0.4444444444444444,
              "#bd3786"
             ],
             [
              0.5555555555555556,
              "#d8576b"
             ],
             [
              0.6666666666666666,
              "#ed7953"
             ],
             [
              0.7777777777777778,
              "#fb9f3a"
             ],
             [
              0.8888888888888888,
              "#fdca26"
             ],
             [
              1,
              "#f0f921"
             ]
            ],
            "type": "heatmapgl"
           }
          ],
          "histogram": [
           {
            "marker": {
             "colorbar": {
              "outlinewidth": 0,
              "ticks": ""
             }
            },
            "type": "histogram"
           }
          ],
          "histogram2d": [
           {
            "colorbar": {
             "outlinewidth": 0,
             "ticks": ""
            },
            "colorscale": [
             [
              0,
              "#0d0887"
             ],
             [
              0.1111111111111111,
              "#46039f"
             ],
             [
              0.2222222222222222,
              "#7201a8"
             ],
             [
              0.3333333333333333,
              "#9c179e"
             ],
             [
              0.4444444444444444,
              "#bd3786"
             ],
             [
              0.5555555555555556,
              "#d8576b"
             ],
             [
              0.6666666666666666,
              "#ed7953"
             ],
             [
              0.7777777777777778,
              "#fb9f3a"
             ],
             [
              0.8888888888888888,
              "#fdca26"
             ],
             [
              1,
              "#f0f921"
             ]
            ],
            "type": "histogram2d"
           }
          ],
          "histogram2dcontour": [
           {
            "colorbar": {
             "outlinewidth": 0,
             "ticks": ""
            },
            "colorscale": [
             [
              0,
              "#0d0887"
             ],
             [
              0.1111111111111111,
              "#46039f"
             ],
             [
              0.2222222222222222,
              "#7201a8"
             ],
             [
              0.3333333333333333,
              "#9c179e"
             ],
             [
              0.4444444444444444,
              "#bd3786"
             ],
             [
              0.5555555555555556,
              "#d8576b"
             ],
             [
              0.6666666666666666,
              "#ed7953"
             ],
             [
              0.7777777777777778,
              "#fb9f3a"
             ],
             [
              0.8888888888888888,
              "#fdca26"
             ],
             [
              1,
              "#f0f921"
             ]
            ],
            "type": "histogram2dcontour"
           }
          ],
          "mesh3d": [
           {
            "colorbar": {
             "outlinewidth": 0,
             "ticks": ""
            },
            "type": "mesh3d"
           }
          ],
          "parcoords": [
           {
            "line": {
             "colorbar": {
              "outlinewidth": 0,
              "ticks": ""
             }
            },
            "type": "parcoords"
           }
          ],
          "pie": [
           {
            "automargin": true,
            "type": "pie"
           }
          ],
          "scatter": [
           {
            "marker": {
             "colorbar": {
              "outlinewidth": 0,
              "ticks": ""
             }
            },
            "type": "scatter"
           }
          ],
          "scatter3d": [
           {
            "line": {
             "colorbar": {
              "outlinewidth": 0,
              "ticks": ""
             }
            },
            "marker": {
             "colorbar": {
              "outlinewidth": 0,
              "ticks": ""
             }
            },
            "type": "scatter3d"
           }
          ],
          "scattercarpet": [
           {
            "marker": {
             "colorbar": {
              "outlinewidth": 0,
              "ticks": ""
             }
            },
            "type": "scattercarpet"
           }
          ],
          "scattergeo": [
           {
            "marker": {
             "colorbar": {
              "outlinewidth": 0,
              "ticks": ""
             }
            },
            "type": "scattergeo"
           }
          ],
          "scattergl": [
           {
            "marker": {
             "colorbar": {
              "outlinewidth": 0,
              "ticks": ""
             }
            },
            "type": "scattergl"
           }
          ],
          "scattermapbox": [
           {
            "marker": {
             "colorbar": {
              "outlinewidth": 0,
              "ticks": ""
             }
            },
            "type": "scattermapbox"
           }
          ],
          "scatterpolar": [
           {
            "marker": {
             "colorbar": {
              "outlinewidth": 0,
              "ticks": ""
             }
            },
            "type": "scatterpolar"
           }
          ],
          "scatterpolargl": [
           {
            "marker": {
             "colorbar": {
              "outlinewidth": 0,
              "ticks": ""
             }
            },
            "type": "scatterpolargl"
           }
          ],
          "scatterternary": [
           {
            "marker": {
             "colorbar": {
              "outlinewidth": 0,
              "ticks": ""
             }
            },
            "type": "scatterternary"
           }
          ],
          "surface": [
           {
            "colorbar": {
             "outlinewidth": 0,
             "ticks": ""
            },
            "colorscale": [
             [
              0,
              "#0d0887"
             ],
             [
              0.1111111111111111,
              "#46039f"
             ],
             [
              0.2222222222222222,
              "#7201a8"
             ],
             [
              0.3333333333333333,
              "#9c179e"
             ],
             [
              0.4444444444444444,
              "#bd3786"
             ],
             [
              0.5555555555555556,
              "#d8576b"
             ],
             [
              0.6666666666666666,
              "#ed7953"
             ],
             [
              0.7777777777777778,
              "#fb9f3a"
             ],
             [
              0.8888888888888888,
              "#fdca26"
             ],
             [
              1,
              "#f0f921"
             ]
            ],
            "type": "surface"
           }
          ],
          "table": [
           {
            "cells": {
             "fill": {
              "color": "#EBF0F8"
             },
             "line": {
              "color": "white"
             }
            },
            "header": {
             "fill": {
              "color": "#C8D4E3"
             },
             "line": {
              "color": "white"
             }
            },
            "type": "table"
           }
          ]
         },
         "layout": {
          "annotationdefaults": {
           "arrowcolor": "#2a3f5f",
           "arrowhead": 0,
           "arrowwidth": 1
          },
          "autotypenumbers": "strict",
          "coloraxis": {
           "colorbar": {
            "outlinewidth": 0,
            "ticks": ""
           }
          },
          "colorscale": {
           "diverging": [
            [
             0,
             "#8e0152"
            ],
            [
             0.1,
             "#c51b7d"
            ],
            [
             0.2,
             "#de77ae"
            ],
            [
             0.3,
             "#f1b6da"
            ],
            [
             0.4,
             "#fde0ef"
            ],
            [
             0.5,
             "#f7f7f7"
            ],
            [
             0.6,
             "#e6f5d0"
            ],
            [
             0.7,
             "#b8e186"
            ],
            [
             0.8,
             "#7fbc41"
            ],
            [
             0.9,
             "#4d9221"
            ],
            [
             1,
             "#276419"
            ]
           ],
           "sequential": [
            [
             0,
             "#0d0887"
            ],
            [
             0.1111111111111111,
             "#46039f"
            ],
            [
             0.2222222222222222,
             "#7201a8"
            ],
            [
             0.3333333333333333,
             "#9c179e"
            ],
            [
             0.4444444444444444,
             "#bd3786"
            ],
            [
             0.5555555555555556,
             "#d8576b"
            ],
            [
             0.6666666666666666,
             "#ed7953"
            ],
            [
             0.7777777777777778,
             "#fb9f3a"
            ],
            [
             0.8888888888888888,
             "#fdca26"
            ],
            [
             1,
             "#f0f921"
            ]
           ],
           "sequentialminus": [
            [
             0,
             "#0d0887"
            ],
            [
             0.1111111111111111,
             "#46039f"
            ],
            [
             0.2222222222222222,
             "#7201a8"
            ],
            [
             0.3333333333333333,
             "#9c179e"
            ],
            [
             0.4444444444444444,
             "#bd3786"
            ],
            [
             0.5555555555555556,
             "#d8576b"
            ],
            [
             0.6666666666666666,
             "#ed7953"
            ],
            [
             0.7777777777777778,
             "#fb9f3a"
            ],
            [
             0.8888888888888888,
             "#fdca26"
            ],
            [
             1,
             "#f0f921"
            ]
           ]
          },
          "colorway": [
           "#636efa",
           "#EF553B",
           "#00cc96",
           "#ab63fa",
           "#FFA15A",
           "#19d3f3",
           "#FF6692",
           "#B6E880",
           "#FF97FF",
           "#FECB52"
          ],
          "font": {
           "color": "#2a3f5f"
          },
          "geo": {
           "bgcolor": "white",
           "lakecolor": "white",
           "landcolor": "#E5ECF6",
           "showlakes": true,
           "showland": true,
           "subunitcolor": "white"
          },
          "hoverlabel": {
           "align": "left"
          },
          "hovermode": "closest",
          "mapbox": {
           "style": "light"
          },
          "paper_bgcolor": "white",
          "plot_bgcolor": "#E5ECF6",
          "polar": {
           "angularaxis": {
            "gridcolor": "white",
            "linecolor": "white",
            "ticks": ""
           },
           "bgcolor": "#E5ECF6",
           "radialaxis": {
            "gridcolor": "white",
            "linecolor": "white",
            "ticks": ""
           }
          },
          "scene": {
           "xaxis": {
            "backgroundcolor": "#E5ECF6",
            "gridcolor": "white",
            "gridwidth": 2,
            "linecolor": "white",
            "showbackground": true,
            "ticks": "",
            "zerolinecolor": "white"
           },
           "yaxis": {
            "backgroundcolor": "#E5ECF6",
            "gridcolor": "white",
            "gridwidth": 2,
            "linecolor": "white",
            "showbackground": true,
            "ticks": "",
            "zerolinecolor": "white"
           },
           "zaxis": {
            "backgroundcolor": "#E5ECF6",
            "gridcolor": "white",
            "gridwidth": 2,
            "linecolor": "white",
            "showbackground": true,
            "ticks": "",
            "zerolinecolor": "white"
           }
          },
          "shapedefaults": {
           "line": {
            "color": "#2a3f5f"
           }
          },
          "ternary": {
           "aaxis": {
            "gridcolor": "white",
            "linecolor": "white",
            "ticks": ""
           },
           "baxis": {
            "gridcolor": "white",
            "linecolor": "white",
            "ticks": ""
           },
           "bgcolor": "#E5ECF6",
           "caxis": {
            "gridcolor": "white",
            "linecolor": "white",
            "ticks": ""
           }
          },
          "title": {
           "x": 0.05
          },
          "xaxis": {
           "automargin": true,
           "gridcolor": "white",
           "linecolor": "white",
           "ticks": "",
           "title": {
            "standoff": 15
           },
           "zerolinecolor": "white",
           "zerolinewidth": 2
          },
          "yaxis": {
           "automargin": true,
           "gridcolor": "white",
           "linecolor": "white",
           "ticks": "",
           "title": {
            "standoff": 15
           },
           "zerolinecolor": "white",
           "zerolinewidth": 2
          }
         }
        },
        "title": {
         "text": "Premier League 2019/2020 (GD vs Pts scored)"
        },
        "xaxis": {
         "autorange": true,
         "range": [
          -0.5,
          19.5
         ],
         "type": "category"
        },
        "yaxis": {
         "autorange": true,
         "range": [
          -57.22222222222222,
          107.22222222222223
         ],
         "type": "linear"
        }
       }
      },
      "image/png": "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",
      "text/html": [
       "<div>                            <div id=\"cd2c3a98-ef20-42f7-822d-62fc88f3ae11\" class=\"plotly-graph-div\" style=\"height:525px; width:100%;\"></div>            <script type=\"text/javascript\">                require([\"plotly\"], function(Plotly) {                    window.PLOTLYENV=window.PLOTLYENV || {};                                    if (document.getElementById(\"cd2c3a98-ef20-42f7-822d-62fc88f3ae11\")) {                    Plotly.newPlot(                        \"cd2c3a98-ef20-42f7-822d-62fc88f3ae11\",                        [{\"marker\": {\"color\": \"crimson\"}, \"name\": \"GD\", \"type\": \"bar\", \"x\": [\"Liverpool\", \"Manchester City\", \"Manchester United\", \"Chelsea\", \"Leicester City\", \"Tottenham Hotspur\", \"Wolverhampton Wanderers\", \"Arsenal\", \"Sheffield United\", \"Burnley\", \"Southampton\", \"Everton\", \"Newcastle United\", \"Crystal Palace\", \"Brighton and Hove Albion\", \"West Ham United\", \"Aston Villa\", \"Bournemouth\", \"Watford\", \"Norwich City\"], \"y\": [52, 67, 30, 15, 26, 14, 11, 8, 0, -7, -9, -12, -20, -19, -15, -13, -26, -25, -28, -49]}, {\"base\": 0, \"marker\": {\"color\": \"lightslategrey\"}, \"name\": \"Pts\", \"type\": \"bar\", \"x\": [\"Liverpool\", \"Manchester City\", \"Manchester United\", \"Chelsea\", \"Leicester City\", \"Tottenham Hotspur\", \"Wolverhampton Wanderers\", \"Arsenal\", \"Sheffield United\", \"Burnley\", \"Southampton\", \"Everton\", \"Newcastle United\", \"Crystal Palace\", \"Brighton and Hove Albion\", \"West Ham United\", \"Aston Villa\", \"Bournemouth\", \"Watford\", \"Norwich City\"], \"y\": [99, 81, 66, 66, 62, 59, 59, 56, 54, 54, 52, 49, 44, 43, 41, 39, 35, 34, 34, 21]}],                        {\"template\": {\"data\": {\"bar\": [{\"error_x\": {\"color\": \"#2a3f5f\"}, \"error_y\": {\"color\": \"#2a3f5f\"}, \"marker\": {\"line\": {\"color\": \"#E5ECF6\", \"width\": 0.5}}, \"type\": \"bar\"}], \"barpolar\": [{\"marker\": {\"line\": {\"color\": \"#E5ECF6\", \"width\": 0.5}}, \"type\": \"barpolar\"}], \"carpet\": [{\"aaxis\": {\"endlinecolor\": \"#2a3f5f\", \"gridcolor\": \"white\", \"linecolor\": \"white\", \"minorgridcolor\": \"white\", \"startlinecolor\": \"#2a3f5f\"}, \"baxis\": {\"endlinecolor\": \"#2a3f5f\", \"gridcolor\": \"white\", \"linecolor\": \"white\", \"minorgridcolor\": \"white\", \"startlinecolor\": \"#2a3f5f\"}, \"type\": \"carpet\"}], \"choropleth\": [{\"colorbar\": {\"outlinewidth\": 0, \"ticks\": \"\"}, \"type\": \"choropleth\"}], \"contour\": [{\"colorbar\": {\"outlinewidth\": 0, \"ticks\": \"\"}, \"colorscale\": [[0.0, \"#0d0887\"], [0.1111111111111111, \"#46039f\"], [0.2222222222222222, \"#7201a8\"], [0.3333333333333333, \"#9c179e\"], [0.4444444444444444, \"#bd3786\"], [0.5555555555555556, \"#d8576b\"], [0.6666666666666666, \"#ed7953\"], [0.7777777777777778, \"#fb9f3a\"], [0.8888888888888888, \"#fdca26\"], [1.0, \"#f0f921\"]], \"type\": \"contour\"}], \"contourcarpet\": [{\"colorbar\": {\"outlinewidth\": 0, \"ticks\": \"\"}, \"type\": \"contourcarpet\"}], \"heatmap\": [{\"colorbar\": {\"outlinewidth\": 0, \"ticks\": \"\"}, \"colorscale\": [[0.0, \"#0d0887\"], [0.1111111111111111, \"#46039f\"], [0.2222222222222222, \"#7201a8\"], [0.3333333333333333, \"#9c179e\"], [0.4444444444444444, \"#bd3786\"], [0.5555555555555556, \"#d8576b\"], [0.6666666666666666, \"#ed7953\"], [0.7777777777777778, \"#fb9f3a\"], [0.8888888888888888, \"#fdca26\"], [1.0, \"#f0f921\"]], \"type\": \"heatmap\"}], \"heatmapgl\": [{\"colorbar\": {\"outlinewidth\": 0, \"ticks\": \"\"}, \"colorscale\": [[0.0, \"#0d0887\"], [0.1111111111111111, \"#46039f\"], [0.2222222222222222, \"#7201a8\"], [0.3333333333333333, \"#9c179e\"], [0.4444444444444444, \"#bd3786\"], [0.5555555555555556, \"#d8576b\"], [0.6666666666666666, \"#ed7953\"], [0.7777777777777778, \"#fb9f3a\"], [0.8888888888888888, \"#fdca26\"], [1.0, \"#f0f921\"]], \"type\": \"heatmapgl\"}], \"histogram\": [{\"marker\": {\"colorbar\": {\"outlinewidth\": 0, \"ticks\": \"\"}}, \"type\": \"histogram\"}], \"histogram2d\": [{\"colorbar\": {\"outlinewidth\": 0, \"ticks\": \"\"}, \"colorscale\": [[0.0, \"#0d0887\"], [0.1111111111111111, \"#46039f\"], [0.2222222222222222, \"#7201a8\"], [0.3333333333333333, \"#9c179e\"], [0.4444444444444444, \"#bd3786\"], [0.5555555555555556, \"#d8576b\"], [0.6666666666666666, \"#ed7953\"], [0.7777777777777778, \"#fb9f3a\"], [0.8888888888888888, \"#fdca26\"], [1.0, \"#f0f921\"]], \"type\": \"histogram2d\"}], \"histogram2dcontour\": [{\"colorbar\": {\"outlinewidth\": 0, \"ticks\": \"\"}, \"colorscale\": [[0.0, \"#0d0887\"], [0.1111111111111111, \"#46039f\"], [0.2222222222222222, \"#7201a8\"], [0.3333333333333333, \"#9c179e\"], [0.4444444444444444, \"#bd3786\"], [0.5555555555555556, \"#d8576b\"], [0.6666666666666666, \"#ed7953\"], [0.7777777777777778, \"#fb9f3a\"], [0.8888888888888888, \"#fdca26\"], [1.0, \"#f0f921\"]], \"type\": \"histogram2dcontour\"}], \"mesh3d\": [{\"colorbar\": {\"outlinewidth\": 0, \"ticks\": \"\"}, \"type\": \"mesh3d\"}], \"parcoords\": [{\"line\": {\"colorbar\": {\"outlinewidth\": 0, \"ticks\": \"\"}}, \"type\": \"parcoords\"}], \"pie\": [{\"automargin\": true, \"type\": \"pie\"}], \"scatter\": [{\"marker\": {\"colorbar\": {\"outlinewidth\": 0, \"ticks\": \"\"}}, \"type\": \"scatter\"}], \"scatter3d\": [{\"line\": {\"colorbar\": {\"outlinewidth\": 0, \"ticks\": \"\"}}, \"marker\": {\"colorbar\": {\"outlinewidth\": 0, \"ticks\": \"\"}}, \"type\": \"scatter3d\"}], \"scattercarpet\": [{\"marker\": {\"colorbar\": {\"outlinewidth\": 0, \"ticks\": \"\"}}, \"type\": \"scattercarpet\"}], \"scattergeo\": [{\"marker\": {\"colorbar\": {\"outlinewidth\": 0, \"ticks\": \"\"}}, \"type\": \"scattergeo\"}], \"scattergl\": [{\"marker\": {\"colorbar\": {\"outlinewidth\": 0, \"ticks\": \"\"}}, \"type\": \"scattergl\"}], \"scattermapbox\": [{\"marker\": {\"colorbar\": {\"outlinewidth\": 0, \"ticks\": \"\"}}, \"type\": \"scattermapbox\"}], \"scatterpolar\": [{\"marker\": {\"colorbar\": {\"outlinewidth\": 0, \"ticks\": \"\"}}, \"type\": \"scatterpolar\"}], \"scatterpolargl\": [{\"marker\": {\"colorbar\": {\"outlinewidth\": 0, \"ticks\": \"\"}}, \"type\": \"scatterpolargl\"}], \"scatterternary\": [{\"marker\": {\"colorbar\": {\"outlinewidth\": 0, \"ticks\": \"\"}}, \"type\": \"scatterternary\"}], \"surface\": [{\"colorbar\": {\"outlinewidth\": 0, \"ticks\": \"\"}, \"colorscale\": [[0.0, \"#0d0887\"], [0.1111111111111111, \"#46039f\"], [0.2222222222222222, \"#7201a8\"], [0.3333333333333333, \"#9c179e\"], [0.4444444444444444, \"#bd3786\"], [0.5555555555555556, \"#d8576b\"], [0.6666666666666666, \"#ed7953\"], [0.7777777777777778, \"#fb9f3a\"], [0.8888888888888888, \"#fdca26\"], [1.0, \"#f0f921\"]], \"type\": \"surface\"}], \"table\": [{\"cells\": {\"fill\": {\"color\": \"#EBF0F8\"}, \"line\": {\"color\": \"white\"}}, \"header\": {\"fill\": {\"color\": \"#C8D4E3\"}, \"line\": {\"color\": \"white\"}}, \"type\": \"table\"}]}, \"layout\": {\"annotationdefaults\": {\"arrowcolor\": \"#2a3f5f\", \"arrowhead\": 0, \"arrowwidth\": 1}, \"autotypenumbers\": \"strict\", \"coloraxis\": {\"colorbar\": {\"outlinewidth\": 0, \"ticks\": \"\"}}, \"colorscale\": {\"diverging\": [[0, \"#8e0152\"], [0.1, \"#c51b7d\"], [0.2, \"#de77ae\"], [0.3, \"#f1b6da\"], [0.4, \"#fde0ef\"], [0.5, \"#f7f7f7\"], [0.6, \"#e6f5d0\"], [0.7, \"#b8e186\"], [0.8, \"#7fbc41\"], [0.9, \"#4d9221\"], [1, \"#276419\"]], \"sequential\": [[0.0, \"#0d0887\"], [0.1111111111111111, \"#46039f\"], [0.2222222222222222, \"#7201a8\"], [0.3333333333333333, \"#9c179e\"], [0.4444444444444444, \"#bd3786\"], [0.5555555555555556, \"#d8576b\"], [0.6666666666666666, \"#ed7953\"], [0.7777777777777778, \"#fb9f3a\"], [0.8888888888888888, \"#fdca26\"], [1.0, \"#f0f921\"]], \"sequentialminus\": [[0.0, \"#0d0887\"], [0.1111111111111111, \"#46039f\"], [0.2222222222222222, \"#7201a8\"], [0.3333333333333333, \"#9c179e\"], [0.4444444444444444, \"#bd3786\"], [0.5555555555555556, \"#d8576b\"], [0.6666666666666666, \"#ed7953\"], [0.7777777777777778, \"#fb9f3a\"], [0.8888888888888888, \"#fdca26\"], [1.0, \"#f0f921\"]]}, \"colorway\": [\"#636efa\", \"#EF553B\", \"#00cc96\", \"#ab63fa\", \"#FFA15A\", \"#19d3f3\", \"#FF6692\", \"#B6E880\", \"#FF97FF\", \"#FECB52\"], \"font\": {\"color\": \"#2a3f5f\"}, \"geo\": {\"bgcolor\": \"white\", \"lakecolor\": \"white\", \"landcolor\": \"#E5ECF6\", \"showlakes\": true, \"showland\": true, \"subunitcolor\": \"white\"}, \"hoverlabel\": {\"align\": \"left\"}, \"hovermode\": \"closest\", \"mapbox\": {\"style\": \"light\"}, \"paper_bgcolor\": \"white\", \"plot_bgcolor\": \"#E5ECF6\", \"polar\": {\"angularaxis\": {\"gridcolor\": \"white\", \"linecolor\": \"white\", \"ticks\": \"\"}, \"bgcolor\": \"#E5ECF6\", \"radialaxis\": {\"gridcolor\": \"white\", \"linecolor\": \"white\", \"ticks\": \"\"}}, \"scene\": {\"xaxis\": {\"backgroundcolor\": \"#E5ECF6\", \"gridcolor\": \"white\", \"gridwidth\": 2, \"linecolor\": \"white\", \"showbackground\": true, \"ticks\": \"\", \"zerolinecolor\": \"white\"}, \"yaxis\": {\"backgroundcolor\": \"#E5ECF6\", \"gridcolor\": \"white\", \"gridwidth\": 2, \"linecolor\": \"white\", \"showbackground\": true, \"ticks\": \"\", \"zerolinecolor\": \"white\"}, \"zaxis\": {\"backgroundcolor\": \"#E5ECF6\", \"gridcolor\": \"white\", \"gridwidth\": 2, \"linecolor\": \"white\", \"showbackground\": true, \"ticks\": \"\", \"zerolinecolor\": \"white\"}}, \"shapedefaults\": {\"line\": {\"color\": \"#2a3f5f\"}}, \"ternary\": {\"aaxis\": {\"gridcolor\": \"white\", \"linecolor\": \"white\", \"ticks\": \"\"}, \"baxis\": {\"gridcolor\": \"white\", \"linecolor\": \"white\", \"ticks\": \"\"}, \"bgcolor\": \"#E5ECF6\", \"caxis\": {\"gridcolor\": \"white\", \"linecolor\": \"white\", \"ticks\": \"\"}}, \"title\": {\"x\": 0.05}, \"xaxis\": {\"automargin\": true, \"gridcolor\": \"white\", \"linecolor\": \"white\", \"ticks\": \"\", \"title\": {\"standoff\": 15}, \"zerolinecolor\": \"white\", \"zerolinewidth\": 2}, \"yaxis\": {\"automargin\": true, \"gridcolor\": \"white\", \"linecolor\": \"white\", \"ticks\": \"\", \"title\": {\"standoff\": 15}, \"zerolinecolor\": \"white\", \"zerolinewidth\": 2}}}, \"title\": {\"text\": \"Premier League 2019/2020 (GD vs Pts scored)\"}},                        {\"responsive\": true}                    ).then(function(){\n",
       "                            \n",
       "var gd = document.getElementById('cd2c3a98-ef20-42f7-822d-62fc88f3ae11');\n",
       "var x = new MutationObserver(function (mutations, observer) {{\n",
       "        var display = window.getComputedStyle(gd).display;\n",
       "        if (!display || display === 'none') {{\n",
       "            console.log([gd, 'removed!']);\n",
       "            Plotly.purge(gd);\n",
       "            observer.disconnect();\n",
       "        }}\n",
       "}});\n",
       "\n",
       "// Listen for the removal of the full notebook cells\n",
       "var notebookContainer = gd.closest('#notebook-container');\n",
       "if (notebookContainer) {{\n",
       "    x.observe(notebookContainer, {childList: true});\n",
       "}}\n",
       "\n",
       "// Listen for the clearing of the current output cell\n",
       "var outputEl = gd.closest('.output');\n",
       "if (outputEl) {{\n",
       "    x.observe(outputEl, {childList: true});\n",
       "}}\n",
       "\n",
       "                        })                };                });            </script>        </div>"
      ]
     },
     "metadata": {},
     "output_type": "display_data"
    },
    {
     "data": {
      "application/javascript": [
       "\n",
       "            setTimeout(function() {\n",
       "                var nbb_cell_id = 18;\n",
       "                var nbb_unformatted_code = \"fig = go.Figure()\\nfig.add_trace(go.Bar(x=df.Team_Name, y=df.GD,\\n                marker_color='crimson',\\n                name='GD'))\\nfig.add_trace(go.Bar(x=df.Team_Name, y=df.Pts,\\n                base=0,\\n                marker_color='lightslategrey',\\n                name='Pts'\\n                ))\\n\\nfig.update_layout(title= \\\"Premier League 2019/2020 (GD vs Pts scored)\\\")\\n\\nfig.show()\";\n",
       "                var nbb_formatted_code = \"fig = go.Figure()\\nfig.add_trace(go.Bar(x=df.Team_Name, y=df.GD, marker_color=\\\"crimson\\\", name=\\\"GD\\\"))\\nfig.add_trace(\\n    go.Bar(x=df.Team_Name, y=df.Pts, base=0, marker_color=\\\"lightslategrey\\\", name=\\\"Pts\\\")\\n)\\n\\nfig.update_layout(title=\\\"Premier League 2019/2020 (GD vs Pts scored)\\\")\\n\\nfig.show()\";\n",
       "                var nbb_cells = Jupyter.notebook.get_cells();\n",
       "                for (var i = 0; i < nbb_cells.length; ++i) {\n",
       "                    if (nbb_cells[i].input_prompt_number == nbb_cell_id) {\n",
       "                        if (nbb_cells[i].get_text() == nbb_unformatted_code) {\n",
       "                             nbb_cells[i].set_text(nbb_formatted_code);\n",
       "                        }\n",
       "                        break;\n",
       "                    }\n",
       "                }\n",
       "            }, 500);\n",
       "            "
      ],
      "text/plain": [
       "<IPython.core.display.Javascript object>"
      ]
     },
     "metadata": {},
     "output_type": "display_data"
    }
   ],
   "source": [
    "fig = go.Figure()\n",
    "fig.add_trace(go.Bar(x=df.Team_Name, y=df.GD,\n",
    "                marker_color='crimson',\n",
    "                name='GD'))\n",
    "fig.add_trace(go.Bar(x=df.Team_Name, y=df.Pts,\n",
    "                base=0,\n",
    "                marker_color='lightslategrey',\n",
    "                name='Pts'\n",
    "                ))\n",
    "\n",
    "fig.update_layout(title= \"Premier League 2019/2020 (GD vs Pts scored)\")\n",
    "\n",
    "fig.show()"
   ]
  },
  {
   "cell_type": "code",
   "execution_count": 19,
   "metadata": {},
   "outputs": [
    {
     "data": {
      "text/plain": [
       "Text(0.5, 1.08, 'Distribution of all fields for top 6 teams')"
      ]
     },
     "execution_count": 19,
     "metadata": {},
     "output_type": "execute_result"
    },
    {
     "data": {
      "image/png": "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\n",
      "text/plain": [
       "<Figure size 1031.12x900 with 30 Axes>"
      ]
     },
     "metadata": {
      "needs_background": "light"
     },
     "output_type": "display_data"
    },
    {
     "data": {
      "application/javascript": [
       "\n",
       "            setTimeout(function() {\n",
       "                var nbb_cell_id = 19;\n",
       "                var nbb_unformatted_code = \"g = sns.pairplot(df[['W','D','L','F','A','Team_Name']].iloc[:6], hue='Team_Name')\\ng.fig.suptitle(\\\"Distribution of all fields for top 6 teams\\\", y=1.08)\";\n",
       "                var nbb_formatted_code = \"g = sns.pairplot(df[[\\\"W\\\", \\\"D\\\", \\\"L\\\", \\\"F\\\", \\\"A\\\", \\\"Team_Name\\\"]].iloc[:6], hue=\\\"Team_Name\\\")\\ng.fig.suptitle(\\\"Distribution of all fields for top 6 teams\\\", y=1.08)\";\n",
       "                var nbb_cells = Jupyter.notebook.get_cells();\n",
       "                for (var i = 0; i < nbb_cells.length; ++i) {\n",
       "                    if (nbb_cells[i].input_prompt_number == nbb_cell_id) {\n",
       "                        if (nbb_cells[i].get_text() == nbb_unformatted_code) {\n",
       "                             nbb_cells[i].set_text(nbb_formatted_code);\n",
       "                        }\n",
       "                        break;\n",
       "                    }\n",
       "                }\n",
       "            }, 500);\n",
       "            "
      ],
      "text/plain": [
       "<IPython.core.display.Javascript object>"
      ]
     },
     "metadata": {},
     "output_type": "display_data"
    }
   ],
   "source": [
    "g = sns.pairplot(df[['W','D','L','F','A','Team_Name']].iloc[:6], hue='Team_Name')\n",
    "g.fig.suptitle(\"Distribution of all fields for top 6 teams\", y=1.08)"
   ]
  },
  {
   "cell_type": "markdown",
   "metadata": {},
   "source": [
    "#### The above graph shows how each of the continuous features are spread, well lets dive in and understand the plot in a better way <br>"
   ]
  },
  {
   "cell_type": "code",
   "execution_count": 20,
   "metadata": {},
   "outputs": [
    {
     "data": {
      "image/png": "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